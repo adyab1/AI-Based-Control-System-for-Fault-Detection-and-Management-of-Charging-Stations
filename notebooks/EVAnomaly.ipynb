{
  "nbformat": 4,
  "nbformat_minor": 0,
  "metadata": {
    "colab": {
      "provenance": [],
      "include_colab_link": true
    },
    "kernelspec": {
      "name": "python3",
      "display_name": "Python 3"
    },
    "language_info": {
      "name": "python"
    }
  },
  "cells": [
    {
      "cell_type": "markdown",
      "metadata": {
        "id": "view-in-github",
        "colab_type": "text"
      },
      "source": [
        "<a href=\"https://colab.research.google.com/github/adyab1/AI-Based-Control-System-for-Fault-Detection-and-Management-of-Charging-Stations/blob/main/notebooks/EVAnomaly.ipynb\" target=\"_parent\"><img src=\"https://colab.research.google.com/assets/colab-badge.svg\" alt=\"Open In Colab\"/></a>"
      ]
    },
    {
      "cell_type": "markdown",
      "source": [
        "#Data collation"
      ],
      "metadata": {
        "id": "ceeD6sKVa6DS"
      }
    },
    {
      "cell_type": "code",
      "execution_count": null,
      "metadata": {
        "id": "qDnLMjaUaTR7"
      },
      "outputs": [],
      "source": [
        "import numpy as np\n",
        "import pandas as pd\n",
        "import matplotlib.pyplot as plt\n",
        "import random\n",
        "import os\n",
        "\n",
        "# Set random seed for reproducibility\n",
        "np.random.seed(42)\n",
        "random.seed(42)\n",
        "\n",
        "# Define number of stations and data points\n",
        "num_stations = 5\n",
        "data_points_per_station = 1000  # e.g., 1000 time intervals\n",
        "\n",
        "# Define station types (e.g., different power ratings)\n",
        "station_types = {\n",
        "    'Type_A': {'voltage_AC': 230, 'voltage_DC': 400, 'current_AC': 32, 'current_DC': 125},\n",
        "    'Type_B': {'voltage_AC': 230, 'voltage_DC': 500, 'current_AC': 32, 'current_DC': 150},\n",
        "    'Type_C': {'voltage_AC': 400, 'voltage_DC': 800, 'current_AC': 63, 'current_DC': 200},\n",
        "    'Type_D': {'voltage_AC': 400, 'voltage_DC': 1000, 'current_AC': 63, 'current_DC': 250},\n",
        "    'Type_E': {'voltage_AC': 230, 'voltage_DC': 300, 'current_AC': 16, 'current_DC': 80},\n",
        "}"
      ]
    },
    {
      "cell_type": "code",
      "source": [
        "def simulate_electrical_data(station_specs, size):\n",
        "    voltage_AC = np.random.normal(loc=station_specs['voltage_AC'], scale=5, size=size)\n",
        "    voltage_DC = np.random.normal(loc=station_specs['voltage_DC'], scale=10, size=size)\n",
        "    current_AC = np.random.normal(loc=station_specs['current_AC'], scale=1, size=size)\n",
        "    current_DC = np.random.normal(loc=station_specs['current_DC'], scale=5, size=size)\n",
        "    power_factor = np.clip(np.random.normal(loc=0.95, scale=0.02, size=size), 0.8, 1.0)\n",
        "    return voltage_AC, voltage_DC, current_AC, current_DC, power_factor\n",
        "\n",
        "def simulate_power_quality(size):\n",
        "    THD = np.clip(np.random.normal(loc=5, scale=1, size=size), 0, 10)  # Total Harmonic Distortion (%)\n",
        "    voltage_sags = np.random.binomial(1, 0.01, size=size)  # 1 indicates sag\n",
        "    voltage_swells = np.random.binomial(1, 0.01, size=size)  # 1 indicates swell\n",
        "    transients = np.random.binomial(1, 0.005, size=size)  # 1 indicates transient\n",
        "    return THD, voltage_sags, voltage_swells, transients\n",
        "\n",
        "def simulate_thermal_data(station_specs, size):\n",
        "    transformer_temp = np.random.normal(loc=70, scale=5, size=size)  # Degrees Celsius\n",
        "    cable_temp = np.random.normal(loc=50, scale=3, size=size)  # Degrees Celsius\n",
        "    return transformer_temp, cable_temp\n",
        "\n",
        "def simulate_usage_data(size):\n",
        "    charging_session = np.random.binomial(1, 0.3, size=size)  # 1 indicates active session\n",
        "    session_start_time = np.random.uniform(0, 24, size=size)  # Hours in a day\n",
        "    session_duration = np.where(charging_session == 1, np.random.uniform(0.5, 3, size=size), 0)  # Hours\n",
        "    energy_delivered = session_duration * np.random.uniform(10, 50, size=size)  # kWh\n",
        "    return charging_session, session_start_time, session_duration, energy_delivered\n",
        "\n",
        "# Create a dictionary to hold data for all stations\n",
        "all_station_data = {}\n",
        "\n",
        "for station_id, (station_type, specs) in enumerate(station_types.items(), start=1):\n",
        "    # Simulate data\n",
        "    voltage_AC, voltage_DC, current_AC, current_DC, power_factor = simulate_electrical_data(specs, data_points_per_station)\n",
        "    THD, voltage_sags, voltage_swells, transients = simulate_power_quality(data_points_per_station)\n",
        "    transformer_temp, cable_temp = simulate_thermal_data(specs, data_points_per_station)\n",
        "    charging_session, session_start_time, session_duration, energy_delivered = simulate_usage_data(data_points_per_station)\n",
        "\n",
        "    # Create DataFrame\n",
        "    df = pd.DataFrame({\n",
        "        'timestamp': pd.date_range(start='2023-01-01', periods=data_points_per_station, freq='T'),\n",
        "        'station_id': station_id,\n",
        "        'station_type': station_type,\n",
        "        'voltage_AC': voltage_AC,\n",
        "        'voltage_DC': voltage_DC,\n",
        "        'current_AC': current_AC,\n",
        "        'current_DC': current_DC,\n",
        "        'power_factor': power_factor,\n",
        "        'THD': THD,\n",
        "        'voltage_sag': voltage_sags,\n",
        "        'voltage_swell': voltage_swells,\n",
        "        'transient': transients,\n",
        "        'transformer_temp': transformer_temp,\n",
        "        'cable_temp': cable_temp,\n",
        "        'charging_session': charging_session,\n",
        "        'session_start_time': session_start_time,\n",
        "        'session_duration': session_duration,\n",
        "        'energy_delivered': energy_delivered\n",
        "    })\n",
        "\n",
        "    # Introduce some missing values randomly (1% per column)\n",
        "    for col in df.columns:\n",
        "        df.loc[df.sample(frac=0.01).index, col] = np.nan\n",
        "\n",
        "    all_station_data[station_id] = df"
      ],
      "metadata": {
        "id": "xfIqjf3xaXN-",
        "colab": {
          "base_uri": "https://localhost:8080/"
        },
        "outputId": "e9c010ae-6f9d-4cc8-f541-fabd92c04364"
      },
      "execution_count": null,
      "outputs": [
        {
          "output_type": "stream",
          "name": "stderr",
          "text": [
            "<ipython-input-2-a3d1450311dc>:40: FutureWarning: 'T' is deprecated and will be removed in a future version, please use 'min' instead.\n",
            "  'timestamp': pd.date_range(start='2023-01-01', periods=data_points_per_station, freq='T'),\n",
            "<ipython-input-2-a3d1450311dc>:40: FutureWarning: 'T' is deprecated and will be removed in a future version, please use 'min' instead.\n",
            "  'timestamp': pd.date_range(start='2023-01-01', periods=data_points_per_station, freq='T'),\n",
            "<ipython-input-2-a3d1450311dc>:40: FutureWarning: 'T' is deprecated and will be removed in a future version, please use 'min' instead.\n",
            "  'timestamp': pd.date_range(start='2023-01-01', periods=data_points_per_station, freq='T'),\n",
            "<ipython-input-2-a3d1450311dc>:40: FutureWarning: 'T' is deprecated and will be removed in a future version, please use 'min' instead.\n",
            "  'timestamp': pd.date_range(start='2023-01-01', periods=data_points_per_station, freq='T'),\n",
            "<ipython-input-2-a3d1450311dc>:40: FutureWarning: 'T' is deprecated and will be removed in a future version, please use 'min' instead.\n",
            "  'timestamp': pd.date_range(start='2023-01-01', periods=data_points_per_station, freq='T'),\n"
          ]
        }
      ]
    },
    {
      "cell_type": "code",
      "source": [
        "# Create a directory to store CSV files\n",
        "os.makedirs('ev_charging_data', exist_ok=True)\n",
        "\n",
        "# Save each station's data as a separate CSV file\n",
        "for station_id, df in all_station_data.items():\n",
        "    filename = f'ev_charging_data/station_{station_id}.csv'\n",
        "    df.to_csv(filename, index=False)\n",
        "\n",
        "print(\"Data collation completed and CSV files saved.\")\n",
        "\n"
      ],
      "metadata": {
        "colab": {
          "base_uri": "https://localhost:8080/"
        },
        "id": "BzfeU8f0acKh",
        "outputId": "ec0acdd2-b15b-42bf-90cb-0abb39d93258"
      },
      "execution_count": null,
      "outputs": [
        {
          "output_type": "stream",
          "name": "stdout",
          "text": [
            "Data collation completed and CSV files saved.\n"
          ]
        }
      ]
    },
    {
      "cell_type": "markdown",
      "source": [
        "#Data processing"
      ],
      "metadata": {
        "id": "mCyGHn1ObAnF"
      }
    },
    {
      "cell_type": "code",
      "source": [
        "from sklearn.preprocessing import MinMaxScaler\n",
        "\n",
        "# List of CSV files\n",
        "csv_files = [f'ev_charging_data/station_{i}.csv' for i in range(1, num_stations + 1)]\n",
        "\n",
        "# Load all data into a single DataFrame\n",
        "df_list = []\n",
        "for file in csv_files:\n",
        "    df = pd.read_csv(file, parse_dates=['timestamp'])\n",
        "    df_list.append(df)\n",
        "\n",
        "# Concatenate all station data\n",
        "data = pd.concat(df_list, ignore_index=True)\n",
        "\n",
        "# Check for missing values\n",
        "print(\"\\nMissing values before imputation:\")\n",
        "print(data.isnull().sum())\n",
        "\n",
        "# Impute numerical columns with median\n",
        "numerical_cols = data.select_dtypes(include=['float64', 'int64']).columns\n",
        "for col in numerical_cols:\n",
        "    median = data[col].median()\n",
        "    data[col].fillna(median, inplace=True)\n",
        "\n",
        "# For categorical columns, fill missing with mode\n",
        "categorical_cols = data.select_dtypes(include=['object', 'category']).columns\n",
        "for col in categorical_cols:\n",
        "    if col != 'timestamp':  # 'timestamp' is datetime, handled separately\n",
        "        mode = data[col].mode()[0]\n",
        "        data[col].fillna(mode, inplace=True)\n",
        "\n",
        "# Handle missing 'timestamp' separately if any\n",
        "if data['timestamp'].isnull().sum() > 0:\n",
        "    # Option 1: Drop rows with missing timestamp\n",
        "    data.dropna(subset=['timestamp'], inplace=True)\n",
        "    print(\"\\nDropped rows with missing timestamps.\")\n",
        "\n",
        "# Verify no missing values remain\n",
        "print(\"\\nMissing values after imputation:\")\n",
        "print(data.isnull().sum())\n"
      ],
      "metadata": {
        "colab": {
          "base_uri": "https://localhost:8080/"
        },
        "id": "SeY8M2gEafhA",
        "outputId": "f485f18b-96c3-4e77-baf5-a903b18d3079"
      },
      "execution_count": null,
      "outputs": [
        {
          "output_type": "stream",
          "name": "stdout",
          "text": [
            "\n",
            "Missing values before imputation:\n",
            "timestamp             50\n",
            "station_id            50\n",
            "station_type          50\n",
            "voltage_AC            50\n",
            "voltage_DC            50\n",
            "current_AC            50\n",
            "current_DC            50\n",
            "power_factor          50\n",
            "THD                   50\n",
            "voltage_sag           50\n",
            "voltage_swell         50\n",
            "transient             50\n",
            "transformer_temp      50\n",
            "cable_temp            50\n",
            "charging_session      50\n",
            "session_start_time    50\n",
            "session_duration      50\n",
            "energy_delivered      50\n",
            "dtype: int64\n",
            "\n",
            "Dropped rows with missing timestamps.\n",
            "\n",
            "Missing values after imputation:\n",
            "timestamp             0\n",
            "station_id            0\n",
            "station_type          0\n",
            "voltage_AC            0\n",
            "voltage_DC            0\n",
            "current_AC            0\n",
            "current_DC            0\n",
            "power_factor          0\n",
            "THD                   0\n",
            "voltage_sag           0\n",
            "voltage_swell         0\n",
            "transient             0\n",
            "transformer_temp      0\n",
            "cable_temp            0\n",
            "charging_session      0\n",
            "session_start_time    0\n",
            "session_duration      0\n",
            "energy_delivered      0\n",
            "dtype: int64\n"
          ]
        },
        {
          "output_type": "stream",
          "name": "stderr",
          "text": [
            "<ipython-input-4-5f69535f495a>:23: FutureWarning: A value is trying to be set on a copy of a DataFrame or Series through chained assignment using an inplace method.\n",
            "The behavior will change in pandas 3.0. This inplace method will never work because the intermediate object on which we are setting values always behaves as a copy.\n",
            "\n",
            "For example, when doing 'df[col].method(value, inplace=True)', try using 'df.method({col: value}, inplace=True)' or df[col] = df[col].method(value) instead, to perform the operation inplace on the original object.\n",
            "\n",
            "\n",
            "  data[col].fillna(median, inplace=True)\n",
            "<ipython-input-4-5f69535f495a>:30: FutureWarning: A value is trying to be set on a copy of a DataFrame or Series through chained assignment using an inplace method.\n",
            "The behavior will change in pandas 3.0. This inplace method will never work because the intermediate object on which we are setting values always behaves as a copy.\n",
            "\n",
            "For example, when doing 'df[col].method(value, inplace=True)', try using 'df.method({col: value}, inplace=True)' or df[col] = df[col].method(value) instead, to perform the operation inplace on the original object.\n",
            "\n",
            "\n",
            "  data[col].fillna(mode, inplace=True)\n"
          ]
        }
      ]
    },
    {
      "cell_type": "code",
      "source": [
        "# Normalize the data\n",
        "scaler = MinMaxScaler()\n",
        "\n",
        "# Select columns to normalize\n",
        "cols_to_normalize = [\n",
        "    'voltage_AC', 'voltage_DC', 'current_AC', 'current_DC',\n",
        "    'power_factor', 'THD', 'transformer_temp',\n",
        "    'cable_temp', 'session_start_time',\n",
        "    'session_duration', 'energy_delivered'\n",
        "]\n",
        "\n",
        "# Ensure all columns to normalize exist\n",
        "missing_cols = set(cols_to_normalize) - set(data.columns)\n",
        "if missing_cols:\n",
        "    print(f\"Warning: The following columns are missing and cannot be normalized: {missing_cols}\")\n",
        "\n",
        "# Apply scaling\n",
        "data[cols_to_normalize] = scaler.fit_transform(data[cols_to_normalize])\n",
        "\n",
        "# Display normalized data\n",
        "print(\"\\nNormalized data preview:\")\n",
        "print(data.head())\n"
      ],
      "metadata": {
        "colab": {
          "base_uri": "https://localhost:8080/"
        },
        "id": "J4rh2u3Nathg",
        "outputId": "2f7e6f80-13ad-4f4c-a722-87530b0f3593"
      },
      "execution_count": null,
      "outputs": [
        {
          "output_type": "stream",
          "name": "stdout",
          "text": [
            "\n",
            "Normalized data preview:\n",
            "            timestamp  station_id station_type  voltage_AC  voltage_DC  \\\n",
            "0 2023-01-01 00:00:00         1.0       Type_A    0.101941    0.185374   \n",
            "1 2023-01-01 00:01:00         1.0       Type_A    0.086472    0.179175   \n",
            "2 2023-01-01 00:02:00         1.0       Type_A    0.105618    0.167880   \n",
            "3 2023-01-01 00:03:00         1.0       Type_A    0.126942    0.158653   \n",
            "4 2023-01-01 00:04:00         1.0       Type_A    0.084137    0.297599   \n",
            "\n",
            "   current_AC  current_DC  power_factor       THD  voltage_sag  voltage_swell  \\\n",
            "0    0.352278    0.252612      0.407492  0.424017          0.0            0.0   \n",
            "1    0.362101    0.278968      0.554107  0.419867          0.0            0.0   \n",
            "2    0.350108    0.290211      0.562777  0.232011          0.0            0.0   \n",
            "3    0.359076    0.348119      0.642861  0.437127          0.0            0.0   \n",
            "4    0.329723    0.314623      0.318820  0.585892          0.0            1.0   \n",
            "\n",
            "   transient  transformer_temp  cable_temp  charging_session  \\\n",
            "0        0.0          0.621603    0.470486               0.0   \n",
            "1        0.0          0.598671    0.687295               0.0   \n",
            "2        0.0          0.752213    0.640190               0.0   \n",
            "3        0.0          0.580535    0.560985               0.0   \n",
            "4        0.0          0.503725    0.315882               0.0   \n",
            "\n",
            "   session_start_time  session_duration  energy_delivered  \n",
            "0            0.028713               0.0               0.0  \n",
            "1            0.414810               0.0               0.0  \n",
            "2            0.433526               0.0               0.0  \n",
            "3            0.467163               0.0               0.0  \n",
            "4            0.704855               0.0               0.0  \n"
          ]
        }
      ]
    },
    {
      "cell_type": "markdown",
      "source": [
        "#Feature Engineering"
      ],
      "metadata": {
        "id": "8biwi4fXbR6V"
      }
    },
    {
      "cell_type": "code",
      "source": [
        "# Sort data by station and timestamp\n",
        "data = data.sort_values(by=['station_id', 'timestamp']).reset_index(drop=True)\n",
        "\n",
        "# Define rolling window size (e.g., last 10 minutes)\n",
        "window_size = 10\n",
        "\n",
        "# Create rolling features for electrical parameters\n",
        "rolling_features = ['voltage_AC', 'voltage_DC', 'current_AC', 'current_DC', 'power_factor']\n",
        "for feature in rolling_features:\n",
        "    data[f'{feature}_ma'] = data.groupby('station_id')[feature].transform(lambda x: x.rolling(window=window_size, min_periods=1).mean())\n",
        "    data[f'{feature}_std'] = data.groupby('station_id')[feature].transform(lambda x: x.rolling(window=window_size, min_periods=1).std())\n",
        "\n",
        "# Similarly, create rolling features for thermal data\n",
        "thermal_features = ['transformer_temp', 'cable_temp']\n",
        "for feature in thermal_features:\n",
        "    data[f'{feature}_ma'] = data.groupby('station_id')[feature].transform(lambda x: x.rolling(window=window_size, min_periods=1).mean())\n",
        "    data[f'{feature}_std'] = data.groupby('station_id')[feature].transform(lambda x: x.rolling(window=window_size, min_periods=1).std())\n",
        "\n",
        "# After rolling, check for any NaNs introduced (should be none with min_periods=1)\n",
        "print(\"\\nMissing values after rolling feature creation:\")\n",
        "print(data.isnull().sum())\n",
        "\n",
        "# If any NaNs exist, handle them\n",
        "if data.isnull().sum().any():\n",
        "    print(\"\\nHandling residual NaNs after rolling features.\")\n",
        "    data.fillna(0, inplace=True)  # Example: Fill NaNs with 0\n",
        "    print(\"Residual NaNs filled with 0.\")\n",
        "else:\n",
        "    print(\"\\nNo residual NaNs after rolling feature creation.\")\n"
      ],
      "metadata": {
        "colab": {
          "base_uri": "https://localhost:8080/"
        },
        "id": "679GI6gybUPs",
        "outputId": "c49659cf-df93-4e02-eb77-5a6f4fc0aa34"
      },
      "execution_count": null,
      "outputs": [
        {
          "output_type": "stream",
          "name": "stdout",
          "text": [
            "\n",
            "Missing values after rolling feature creation:\n",
            "timestamp               0\n",
            "station_id              0\n",
            "station_type            0\n",
            "voltage_AC              0\n",
            "voltage_DC              0\n",
            "current_AC              0\n",
            "current_DC              0\n",
            "power_factor            0\n",
            "THD                     0\n",
            "voltage_sag             0\n",
            "voltage_swell           0\n",
            "transient               0\n",
            "transformer_temp        0\n",
            "cable_temp              0\n",
            "charging_session        0\n",
            "session_start_time      0\n",
            "session_duration        0\n",
            "energy_delivered        0\n",
            "voltage_AC_ma           0\n",
            "voltage_AC_std          5\n",
            "voltage_DC_ma           0\n",
            "voltage_DC_std          5\n",
            "current_AC_ma           0\n",
            "current_AC_std          5\n",
            "current_DC_ma           0\n",
            "current_DC_std          5\n",
            "power_factor_ma         0\n",
            "power_factor_std        5\n",
            "transformer_temp_ma     0\n",
            "transformer_temp_std    5\n",
            "cable_temp_ma           0\n",
            "cable_temp_std          5\n",
            "dtype: int64\n",
            "\n",
            "Handling residual NaNs after rolling features.\n",
            "Residual NaNs filled with 0.\n"
          ]
        }
      ]
    },
    {
      "cell_type": "code",
      "source": [
        "# Example: Calculate Power (P = V * I * Power Factor)\n",
        "data['power_AC'] = data['voltage_AC'] * data['current_AC'] * data['power_factor']\n",
        "data['power_DC'] = data['voltage_DC'] * data['current_DC']  # DC power doesn't involve power factor\n",
        "\n",
        "# Example: Energy efficiency (Energy delivered / Power)\n",
        "data['efficiency_AC'] = data['energy_delivered'] / (data['power_AC'] + 1e-6)  # Avoid division by zero\n",
        "data['efficiency_DC'] = data['energy_delivered'] / (data['power_DC'] + 1e-6)\n",
        "\n",
        "# Example: Temperature gradients\n",
        "data['transformer_temp_grad'] = data.groupby('station_id')['transformer_temp'].diff().fillna(0)\n",
        "data['cable_temp_grad'] = data.groupby('station_id')['cable_temp'].diff().fillna(0)\n",
        "\n",
        "# Display data with domain-specific features\n",
        "print(\"\\nData with domain-specific features:\")\n",
        "print(data.head())"
      ],
      "metadata": {
        "colab": {
          "base_uri": "https://localhost:8080/"
        },
        "id": "XGRt-2uufqcH",
        "outputId": "c6fd9f9e-84e9-4100-d570-0ad9a65e284f"
      },
      "execution_count": null,
      "outputs": [
        {
          "output_type": "stream",
          "name": "stdout",
          "text": [
            "\n",
            "Data with domain-specific features:\n",
            "            timestamp  station_id station_type  voltage_AC  voltage_DC  \\\n",
            "0 2023-01-01 00:00:00         1.0       Type_A    0.101941    0.185374   \n",
            "1 2023-01-01 00:01:00         1.0       Type_A    0.086472    0.179175   \n",
            "2 2023-01-01 00:02:00         1.0       Type_A    0.105618    0.167880   \n",
            "3 2023-01-01 00:03:00         1.0       Type_A    0.126942    0.158653   \n",
            "4 2023-01-01 00:04:00         1.0       Type_A    0.084137    0.297599   \n",
            "\n",
            "   current_AC  current_DC  power_factor       THD  voltage_sag  ...  \\\n",
            "0    0.352278    0.252612      0.407492  0.424017          0.0  ...   \n",
            "1    0.362101    0.278968      0.554107  0.419867          0.0  ...   \n",
            "2    0.350108    0.290211      0.562777  0.232011          0.0  ...   \n",
            "3    0.359076    0.348119      0.642861  0.437127          0.0  ...   \n",
            "4    0.329723    0.314623      0.318820  0.585892          0.0  ...   \n",
            "\n",
            "   transformer_temp_ma  transformer_temp_std  cable_temp_ma  cable_temp_std  \\\n",
            "0             0.621603              0.000000       0.470486        0.000000   \n",
            "1             0.610137              0.016215       0.578891        0.153308   \n",
            "2             0.657495              0.082825       0.599324        0.114036   \n",
            "3             0.638255              0.077808       0.589739        0.095063   \n",
            "4             0.611349              0.090334       0.534967        0.147571   \n",
            "\n",
            "   power_AC  power_DC  efficiency_AC  efficiency_DC  transformer_temp_grad  \\\n",
            "0  0.014634  0.046828            0.0            0.0               0.000000   \n",
            "1  0.017350  0.049984            0.0            0.0              -0.022932   \n",
            "2  0.020810  0.048720            0.0            0.0               0.153542   \n",
            "3  0.029303  0.055230            0.0            0.0              -0.171678   \n",
            "4  0.008845  0.093631            0.0            0.0              -0.076809   \n",
            "\n",
            "   cable_temp_grad  \n",
            "0         0.000000  \n",
            "1         0.216810  \n",
            "2        -0.047106  \n",
            "3        -0.079205  \n",
            "4        -0.245103  \n",
            "\n",
            "[5 rows x 38 columns]\n"
          ]
        }
      ]
    },
    {
      "cell_type": "markdown",
      "source": [
        "#Data Integration"
      ],
      "metadata": {
        "id": "jclNNiD1fy13"
      }
    },
    {
      "cell_type": "code",
      "source": [
        "# Ensure station_id is treated as a categorical variable\n",
        "data['station_id'] = data['station_id'].astype('category')\n",
        "\n",
        "# Display the integrated data structure\n",
        "print(\"\\nIntegrated DataFrame Info:\")\n",
        "print(data.info())\n",
        "\n",
        "# Save integrated data to CSV (optional)\n",
        "data.to_csv('ev_charging_integrated_data.csv', index=False)\n",
        "print(\"\\nIntegrated data saved to 'ev_charging_integrated_data.csv'.\")\n"
      ],
      "metadata": {
        "colab": {
          "base_uri": "https://localhost:8080/"
        },
        "id": "B0YW_s9EfuWy",
        "outputId": "adf74055-20ff-4332-9ff6-5290adfe423f"
      },
      "execution_count": null,
      "outputs": [
        {
          "output_type": "stream",
          "name": "stdout",
          "text": [
            "\n",
            "Integrated DataFrame Info:\n",
            "<class 'pandas.core.frame.DataFrame'>\n",
            "RangeIndex: 4950 entries, 0 to 4949\n",
            "Data columns (total 38 columns):\n",
            " #   Column                 Non-Null Count  Dtype         \n",
            "---  ------                 --------------  -----         \n",
            " 0   timestamp              4950 non-null   datetime64[ns]\n",
            " 1   station_id             4950 non-null   category      \n",
            " 2   station_type           4950 non-null   object        \n",
            " 3   voltage_AC             4950 non-null   float64       \n",
            " 4   voltage_DC             4950 non-null   float64       \n",
            " 5   current_AC             4950 non-null   float64       \n",
            " 6   current_DC             4950 non-null   float64       \n",
            " 7   power_factor           4950 non-null   float64       \n",
            " 8   THD                    4950 non-null   float64       \n",
            " 9   voltage_sag            4950 non-null   float64       \n",
            " 10  voltage_swell          4950 non-null   float64       \n",
            " 11  transient              4950 non-null   float64       \n",
            " 12  transformer_temp       4950 non-null   float64       \n",
            " 13  cable_temp             4950 non-null   float64       \n",
            " 14  charging_session       4950 non-null   float64       \n",
            " 15  session_start_time     4950 non-null   float64       \n",
            " 16  session_duration       4950 non-null   float64       \n",
            " 17  energy_delivered       4950 non-null   float64       \n",
            " 18  voltage_AC_ma          4950 non-null   float64       \n",
            " 19  voltage_AC_std         4950 non-null   float64       \n",
            " 20  voltage_DC_ma          4950 non-null   float64       \n",
            " 21  voltage_DC_std         4950 non-null   float64       \n",
            " 22  current_AC_ma          4950 non-null   float64       \n",
            " 23  current_AC_std         4950 non-null   float64       \n",
            " 24  current_DC_ma          4950 non-null   float64       \n",
            " 25  current_DC_std         4950 non-null   float64       \n",
            " 26  power_factor_ma        4950 non-null   float64       \n",
            " 27  power_factor_std       4950 non-null   float64       \n",
            " 28  transformer_temp_ma    4950 non-null   float64       \n",
            " 29  transformer_temp_std   4950 non-null   float64       \n",
            " 30  cable_temp_ma          4950 non-null   float64       \n",
            " 31  cable_temp_std         4950 non-null   float64       \n",
            " 32  power_AC               4950 non-null   float64       \n",
            " 33  power_DC               4950 non-null   float64       \n",
            " 34  efficiency_AC          4950 non-null   float64       \n",
            " 35  efficiency_DC          4950 non-null   float64       \n",
            " 36  transformer_temp_grad  4950 non-null   float64       \n",
            " 37  cable_temp_grad        4950 non-null   float64       \n",
            "dtypes: category(1), datetime64[ns](1), float64(35), object(1)\n",
            "memory usage: 1.4+ MB\n",
            "None\n",
            "\n",
            "Integrated data saved to 'ev_charging_integrated_data.csv'.\n"
          ]
        }
      ]
    },
    {
      "cell_type": "markdown",
      "source": [
        "#Feature Selection"
      ],
      "metadata": {
        "id": "Nu_5PBtwf1RI"
      }
    },
    {
      "cell_type": "code",
      "source": [
        "from sklearn.feature_selection import SelectKBest, f_classif\n",
        "\n",
        "# Define target variable for fault detection\n",
        "# For simulation, let's assume 'fault' occurs when voltage_sag, voltage_swell, or transient is 1\n",
        "data['fault'] = ((data['voltage_sag'] == 1) |\n",
        "                (data['voltage_swell'] == 1) |\n",
        "                (data['transient'] == 1)).astype(int)\n",
        "\n",
        "# Features to consider (excluding timestamp, station_id, station_type, and target variable)\n",
        "feature_cols = data.columns.drop(['timestamp', 'station_id', 'station_type', 'fault'])\n",
        "\n",
        "X = data[feature_cols]\n",
        "y = data['fault']\n",
        "\n",
        "# Check for any remaining NaNs in X\n",
        "if X.isnull().sum().any():\n",
        "    print(\"\\nHandling NaNs in features before feature selection.\")\n",
        "    # Example: Fill NaNs with 0\n",
        "    X.fillna(0, inplace=True)\n",
        "    print(\"NaNs in features filled with 0.\")\n",
        "else:\n",
        "    print(\"\\nNo NaNs in features before feature selection.\")\n",
        "\n",
        "# Select top 20 features using ANOVA F-test\n",
        "selector = SelectKBest(score_func=f_classif, k=20)\n",
        "X_new = selector.fit_transform(X, y)\n",
        "\n",
        "# Get selected feature names\n",
        "selected_features = X.columns[selector.get_support(indices=True)]\n",
        "print(\"\\nSelected Features:\", selected_features.tolist())\n",
        "\n",
        "# Update X to include only selected features\n",
        "X = X[selected_features]"
      ],
      "metadata": {
        "colab": {
          "base_uri": "https://localhost:8080/"
        },
        "id": "MLTjuEPVf2wc",
        "outputId": "6970f082-db1c-49e3-e8fb-990ba23752aa"
      },
      "execution_count": null,
      "outputs": [
        {
          "output_type": "stream",
          "name": "stdout",
          "text": [
            "\n",
            "No NaNs in features before feature selection.\n",
            "\n",
            "Selected Features: ['current_DC', 'THD', 'voltage_sag', 'voltage_swell', 'transient', 'transformer_temp', 'charging_session', 'session_start_time', 'session_duration', 'energy_delivered', 'voltage_AC_std', 'voltage_DC_std', 'current_AC_std', 'current_DC_ma', 'power_factor_ma', 'power_factor_std', 'transformer_temp_std', 'cable_temp_ma', 'efficiency_DC', 'cable_temp_grad']\n"
          ]
        }
      ]
    },
    {
      "cell_type": "markdown",
      "source": [
        "#Fault Type Assignment"
      ],
      "metadata": {
        "id": "RpGE6zP2gD9l"
      }
    },
    {
      "cell_type": "code",
      "source": [
        "def assign_fault_type(row):\n",
        "    faults = []\n",
        "    if row['voltage_sag'] == 1:\n",
        "        faults.append('Voltage_Sag')\n",
        "    if row['voltage_swell'] == 1:\n",
        "        faults.append('Voltage_Swell')\n",
        "    if row['transient'] == 1:\n",
        "        faults.append('Transient')\n",
        "    if len(faults) == 0:\n",
        "        return 'No_Fault'\n",
        "    elif len(faults) == 1:\n",
        "        return faults[0]\n",
        "    else:\n",
        "        return 'Multiple_Faults'\n",
        "\n",
        "data['fault_type'] = data.apply(assign_fault_type, axis=1)\n",
        "\n",
        "# Encode fault_type\n",
        "from sklearn.preprocessing import LabelEncoder\n",
        "\n",
        "le = LabelEncoder()\n",
        "data['fault_type_encoded'] = le.fit_transform(data['fault_type'])\n",
        "\n",
        "# Display the distribution\n",
        "print(\"\\nFault Type Distribution:\")\n",
        "print(data['fault_type'].value_counts())\n",
        "\n",
        "# Check for consistency in fault_type\n",
        "print(\"\\nUnique Fault Types:\", data['fault_type'].unique())"
      ],
      "metadata": {
        "colab": {
          "base_uri": "https://localhost:8080/"
        },
        "id": "wZn_8Kz7gDuo",
        "outputId": "b3c92579-698c-4c31-c2a9-87107a51295b"
      },
      "execution_count": null,
      "outputs": [
        {
          "output_type": "stream",
          "name": "stdout",
          "text": [
            "\n",
            "Fault Type Distribution:\n",
            "fault_type\n",
            "No_Fault           4849\n",
            "Voltage_Sag          43\n",
            "Voltage_Swell        42\n",
            "Transient            14\n",
            "Multiple_Faults       2\n",
            "Name: count, dtype: int64\n",
            "\n",
            "Unique Fault Types: ['No_Fault' 'Voltage_Swell' 'Voltage_Sag' 'Transient' 'Multiple_Faults']\n"
          ]
        }
      ]
    },
    {
      "cell_type": "markdown",
      "source": [
        "#Handling Fault Classification Feature Selection"
      ],
      "metadata": {
        "id": "JhMRsiT3gJft"
      }
    },
    {
      "cell_type": "code",
      "source": [
        "feature_cols_classification = data.columns.drop(['timestamp', 'station_id', 'station_type', 'fault', 'fault_type', 'fault_type_encoded'])\n",
        "\n",
        "X_classification = data[feature_cols_classification]\n",
        "y_classification = data['fault_type_encoded']\n",
        "\n",
        "# Handle any remaining missing values (if any)\n",
        "if X_classification.isnull().sum().any():\n",
        "    print(\"\\nHandling NaNs in classification features.\")\n",
        "    X_classification.fillna(0, inplace=True)\n",
        "    print(\"NaNs in classification features filled with 0.\")\n",
        "else:\n",
        "    print(\"\\nNo NaNs in classification features.\")\n",
        "\n",
        "# Feature Selection using SelectKBest\n",
        "selector_classification = SelectKBest(score_func=f_classif, k=20)\n",
        "X_classification_new = selector_classification.fit_transform(X_classification, y_classification)\n",
        "\n",
        "# Get selected feature names\n",
        "selected_features_classification = X_classification.columns[selector_classification.get_support(indices=True)]\n",
        "print(\"\\nSelected Features for Classification:\", selected_features_classification.tolist())\n",
        "\n",
        "# Update X_classification to include only selected features\n",
        "X_classification = X_classification[selected_features_classification]"
      ],
      "metadata": {
        "colab": {
          "base_uri": "https://localhost:8080/"
        },
        "id": "KBWomBRGgJNw",
        "outputId": "144cb52f-1fe3-43ae-82b9-8b20444ce170"
      },
      "execution_count": null,
      "outputs": [
        {
          "output_type": "stream",
          "name": "stdout",
          "text": [
            "\n",
            "No NaNs in classification features.\n",
            "\n",
            "Selected Features for Classification: ['voltage_AC', 'voltage_DC', 'current_AC', 'voltage_sag', 'voltage_swell', 'transient', 'charging_session', 'session_start_time', 'session_duration', 'energy_delivered', 'voltage_AC_ma', 'voltage_AC_std', 'voltage_DC_std', 'current_AC_std', 'current_DC_std', 'power_factor_std', 'transformer_temp_ma', 'cable_temp_std', 'power_DC', 'efficiency_DC']\n"
          ]
        },
        {
          "output_type": "stream",
          "name": "stderr",
          "text": [
            "/usr/local/lib/python3.10/dist-packages/sklearn/feature_selection/_univariate_selection.py:113: RuntimeWarning: divide by zero encountered in divide\n",
            "  f = msb / msw\n"
          ]
        }
      ]
    },
    {
      "cell_type": "markdown",
      "source": [
        "#Main\n"
      ],
      "metadata": {
        "id": "cFASYXZQdVZ9"
      }
    },
    {
      "cell_type": "markdown",
      "source": [
        "##Data\n"
      ],
      "metadata": {
        "id": "0wDhewindW5p"
      }
    },
    {
      "cell_type": "code",
      "source": [
        "import pandas as pd\n",
        "import numpy as np\n",
        "\n",
        "# Assuming 'data' is the integrated DataFrame from previous steps\n",
        "\n",
        "# Define normal data: fault == 0\n",
        "normal_data = data[data['fault'] == 0]\n",
        "\n",
        "# Define anomalous data: fault == 1\n",
        "anomalous_data = data[data['fault'] == 1]\n",
        "\n",
        "print(f\"Normal data points: {normal_data.shape[0]}\")\n",
        "print(f\"Anomalous data points: {anomalous_data.shape[0]}\")\n"
      ],
      "metadata": {
        "colab": {
          "base_uri": "https://localhost:8080/"
        },
        "id": "cDxz7lPtboWT",
        "outputId": "e4f51660-9b3f-45e4-8bc9-ab5888c05fa0"
      },
      "execution_count": null,
      "outputs": [
        {
          "output_type": "stream",
          "name": "stdout",
          "text": [
            "Normal data points: 4849\n",
            "Anomalous data points: 101\n"
          ]
        }
      ]
    },
    {
      "cell_type": "code",
      "source": [
        "# Features for the autoencoder (excluding identifiers and target)\n",
        "features = X.columns  # 'X' is the feature set from feature selection for fault detection\n",
        "\n",
        "X_normal = normal_data[features].values\n",
        "X_anomalous = anomalous_data[features].values\n",
        "\n",
        "print(f\"Shape of normal data: {X_normal.shape}\")\n",
        "print(f\"Shape of anomalous data: {X_anomalous.shape}\")\n"
      ],
      "metadata": {
        "colab": {
          "base_uri": "https://localhost:8080/"
        },
        "id": "8YtBKtIddaBJ",
        "outputId": "20c7660f-e201-4956-ff90-e6c850cbed1e"
      },
      "execution_count": null,
      "outputs": [
        {
          "output_type": "stream",
          "name": "stdout",
          "text": [
            "Shape of normal data: (4849, 20)\n",
            "Shape of anomalous data: (101, 20)\n"
          ]
        }
      ]
    },
    {
      "cell_type": "markdown",
      "source": [
        "##Autoencoder"
      ],
      "metadata": {
        "id": "h4D77TyBg-v7"
      }
    },
    {
      "cell_type": "code",
      "source": [
        "import tensorflow as tf\n",
        "from tensorflow.keras.models import Model\n",
        "from tensorflow.keras.layers import Input, Dense\n",
        "\n",
        "# Define the size of the input\n",
        "input_dim = X_normal.shape[1]  # 20 features\n",
        "\n",
        "# Define the Autoencoder architecture\n",
        "encoding_dim = 14  # Can be tuned based on experimentation\n",
        "\n",
        "input_layer = Input(shape=(input_dim,))\n",
        "encoder = Dense(encoding_dim, activation=\"relu\")(input_layer)\n",
        "encoder = Dense(int(encoding_dim / 2), activation=\"relu\")(encoder)\n",
        "decoder = Dense(int(encoding_dim / 2), activation=\"relu\")(encoder)\n",
        "decoder = Dense(input_dim, activation=\"linear\")(decoder)\n",
        "\n",
        "autoencoder = Model(inputs=input_layer, outputs=decoder)\n",
        "\n",
        "autoencoder.compile(optimizer='adam', loss='mse')\n",
        "\n",
        "autoencoder.summary()\n"
      ],
      "metadata": {
        "colab": {
          "base_uri": "https://localhost:8080/",
          "height": 286
        },
        "id": "QpcFxYXCg8If",
        "outputId": "e358a2b4-7ad5-47f9-f087-adfd82e4886d"
      },
      "execution_count": null,
      "outputs": [
        {
          "output_type": "display_data",
          "data": {
            "text/plain": [
              "\u001b[1mModel: \"functional\"\u001b[0m\n"
            ],
            "text/html": [
              "<pre style=\"white-space:pre;overflow-x:auto;line-height:normal;font-family:Menlo,'DejaVu Sans Mono',consolas,'Courier New',monospace\"><span style=\"font-weight: bold\">Model: \"functional\"</span>\n",
              "</pre>\n"
            ]
          },
          "metadata": {}
        },
        {
          "output_type": "display_data",
          "data": {
            "text/plain": [
              "┏━━━━━━━━━━━━━━━━━━━━━━━━━━━━━━━━━━━━━━┳━━━━━━━━━━━━━━━━━━━━━━━━━━━━━┳━━━━━━━━━━━━━━━━━┓\n",
              "┃\u001b[1m \u001b[0m\u001b[1mLayer (type)                        \u001b[0m\u001b[1m \u001b[0m┃\u001b[1m \u001b[0m\u001b[1mOutput Shape               \u001b[0m\u001b[1m \u001b[0m┃\u001b[1m \u001b[0m\u001b[1m        Param #\u001b[0m\u001b[1m \u001b[0m┃\n",
              "┡━━━━━━━━━━━━━━━━━━━━━━━━━━━━━━━━━━━━━━╇━━━━━━━━━━━━━━━━━━━━━━━━━━━━━╇━━━━━━━━━━━━━━━━━┩\n",
              "│ input_layer (\u001b[38;5;33mInputLayer\u001b[0m)             │ (\u001b[38;5;45mNone\u001b[0m, \u001b[38;5;34m20\u001b[0m)                  │               \u001b[38;5;34m0\u001b[0m │\n",
              "├──────────────────────────────────────┼─────────────────────────────┼─────────────────┤\n",
              "│ dense (\u001b[38;5;33mDense\u001b[0m)                        │ (\u001b[38;5;45mNone\u001b[0m, \u001b[38;5;34m14\u001b[0m)                  │             \u001b[38;5;34m294\u001b[0m │\n",
              "├──────────────────────────────────────┼─────────────────────────────┼─────────────────┤\n",
              "│ dense_1 (\u001b[38;5;33mDense\u001b[0m)                      │ (\u001b[38;5;45mNone\u001b[0m, \u001b[38;5;34m7\u001b[0m)                   │             \u001b[38;5;34m105\u001b[0m │\n",
              "├──────────────────────────────────────┼─────────────────────────────┼─────────────────┤\n",
              "│ dense_2 (\u001b[38;5;33mDense\u001b[0m)                      │ (\u001b[38;5;45mNone\u001b[0m, \u001b[38;5;34m7\u001b[0m)                   │              \u001b[38;5;34m56\u001b[0m │\n",
              "├──────────────────────────────────────┼─────────────────────────────┼─────────────────┤\n",
              "│ dense_3 (\u001b[38;5;33mDense\u001b[0m)                      │ (\u001b[38;5;45mNone\u001b[0m, \u001b[38;5;34m20\u001b[0m)                  │             \u001b[38;5;34m160\u001b[0m │\n",
              "└──────────────────────────────────────┴─────────────────────────────┴─────────────────┘\n"
            ],
            "text/html": [
              "<pre style=\"white-space:pre;overflow-x:auto;line-height:normal;font-family:Menlo,'DejaVu Sans Mono',consolas,'Courier New',monospace\">┏━━━━━━━━━━━━━━━━━━━━━━━━━━━━━━━━━━━━━━┳━━━━━━━━━━━━━━━━━━━━━━━━━━━━━┳━━━━━━━━━━━━━━━━━┓\n",
              "┃<span style=\"font-weight: bold\"> Layer (type)                         </span>┃<span style=\"font-weight: bold\"> Output Shape                </span>┃<span style=\"font-weight: bold\">         Param # </span>┃\n",
              "┡━━━━━━━━━━━━━━━━━━━━━━━━━━━━━━━━━━━━━━╇━━━━━━━━━━━━━━━━━━━━━━━━━━━━━╇━━━━━━━━━━━━━━━━━┩\n",
              "│ input_layer (<span style=\"color: #0087ff; text-decoration-color: #0087ff\">InputLayer</span>)             │ (<span style=\"color: #00d7ff; text-decoration-color: #00d7ff\">None</span>, <span style=\"color: #00af00; text-decoration-color: #00af00\">20</span>)                  │               <span style=\"color: #00af00; text-decoration-color: #00af00\">0</span> │\n",
              "├──────────────────────────────────────┼─────────────────────────────┼─────────────────┤\n",
              "│ dense (<span style=\"color: #0087ff; text-decoration-color: #0087ff\">Dense</span>)                        │ (<span style=\"color: #00d7ff; text-decoration-color: #00d7ff\">None</span>, <span style=\"color: #00af00; text-decoration-color: #00af00\">14</span>)                  │             <span style=\"color: #00af00; text-decoration-color: #00af00\">294</span> │\n",
              "├──────────────────────────────────────┼─────────────────────────────┼─────────────────┤\n",
              "│ dense_1 (<span style=\"color: #0087ff; text-decoration-color: #0087ff\">Dense</span>)                      │ (<span style=\"color: #00d7ff; text-decoration-color: #00d7ff\">None</span>, <span style=\"color: #00af00; text-decoration-color: #00af00\">7</span>)                   │             <span style=\"color: #00af00; text-decoration-color: #00af00\">105</span> │\n",
              "├──────────────────────────────────────┼─────────────────────────────┼─────────────────┤\n",
              "│ dense_2 (<span style=\"color: #0087ff; text-decoration-color: #0087ff\">Dense</span>)                      │ (<span style=\"color: #00d7ff; text-decoration-color: #00d7ff\">None</span>, <span style=\"color: #00af00; text-decoration-color: #00af00\">7</span>)                   │              <span style=\"color: #00af00; text-decoration-color: #00af00\">56</span> │\n",
              "├──────────────────────────────────────┼─────────────────────────────┼─────────────────┤\n",
              "│ dense_3 (<span style=\"color: #0087ff; text-decoration-color: #0087ff\">Dense</span>)                      │ (<span style=\"color: #00d7ff; text-decoration-color: #00d7ff\">None</span>, <span style=\"color: #00af00; text-decoration-color: #00af00\">20</span>)                  │             <span style=\"color: #00af00; text-decoration-color: #00af00\">160</span> │\n",
              "└──────────────────────────────────────┴─────────────────────────────┴─────────────────┘\n",
              "</pre>\n"
            ]
          },
          "metadata": {}
        },
        {
          "output_type": "display_data",
          "data": {
            "text/plain": [
              "\u001b[1m Total params: \u001b[0m\u001b[38;5;34m615\u001b[0m (2.40 KB)\n"
            ],
            "text/html": [
              "<pre style=\"white-space:pre;overflow-x:auto;line-height:normal;font-family:Menlo,'DejaVu Sans Mono',consolas,'Courier New',monospace\"><span style=\"font-weight: bold\"> Total params: </span><span style=\"color: #00af00; text-decoration-color: #00af00\">615</span> (2.40 KB)\n",
              "</pre>\n"
            ]
          },
          "metadata": {}
        },
        {
          "output_type": "display_data",
          "data": {
            "text/plain": [
              "\u001b[1m Trainable params: \u001b[0m\u001b[38;5;34m615\u001b[0m (2.40 KB)\n"
            ],
            "text/html": [
              "<pre style=\"white-space:pre;overflow-x:auto;line-height:normal;font-family:Menlo,'DejaVu Sans Mono',consolas,'Courier New',monospace\"><span style=\"font-weight: bold\"> Trainable params: </span><span style=\"color: #00af00; text-decoration-color: #00af00\">615</span> (2.40 KB)\n",
              "</pre>\n"
            ]
          },
          "metadata": {}
        },
        {
          "output_type": "display_data",
          "data": {
            "text/plain": [
              "\u001b[1m Non-trainable params: \u001b[0m\u001b[38;5;34m0\u001b[0m (0.00 B)\n"
            ],
            "text/html": [
              "<pre style=\"white-space:pre;overflow-x:auto;line-height:normal;font-family:Menlo,'DejaVu Sans Mono',consolas,'Courier New',monospace\"><span style=\"font-weight: bold\"> Non-trainable params: </span><span style=\"color: #00af00; text-decoration-color: #00af00\">0</span> (0.00 B)\n",
              "</pre>\n"
            ]
          },
          "metadata": {}
        }
      ]
    },
    {
      "cell_type": "markdown",
      "source": [
        "##Training Autoencoder"
      ],
      "metadata": {
        "id": "dpSOdJHxhIXB"
      }
    },
    {
      "cell_type": "code",
      "source": [
        "from sklearn.model_selection import train_test_split\n",
        "\n",
        "# Split normal data into training and validation sets\n",
        "X_train, X_val = train_test_split(X_normal, test_size=0.2, random_state=42)\n",
        "\n",
        "# Train the Autoencoder\n",
        "history = autoencoder.fit(\n",
        "    X_train, X_train,\n",
        "    epochs=50,\n",
        "    batch_size=32,\n",
        "    shuffle=True,\n",
        "    validation_data=(X_val, X_val),\n",
        "    verbose=1\n",
        ")\n"
      ],
      "metadata": {
        "colab": {
          "base_uri": "https://localhost:8080/"
        },
        "id": "IwU8QC_WhHyK",
        "outputId": "b0874104-922e-41a7-af3a-e22424e27543"
      },
      "execution_count": null,
      "outputs": [
        {
          "output_type": "stream",
          "name": "stdout",
          "text": [
            "Epoch 1/50\n",
            "\u001b[1m122/122\u001b[0m \u001b[32m━━━━━━━━━━━━━━━━━━━━\u001b[0m\u001b[37m\u001b[0m \u001b[1m4s\u001b[0m 7ms/step - loss: 233.5455 - val_loss: 115.6006\n",
            "Epoch 2/50\n",
            "\u001b[1m122/122\u001b[0m \u001b[32m━━━━━━━━━━━━━━━━━━━━\u001b[0m\u001b[37m\u001b[0m \u001b[1m1s\u001b[0m 4ms/step - loss: 950.7850 - val_loss: 101.0757\n",
            "Epoch 3/50\n",
            "\u001b[1m122/122\u001b[0m \u001b[32m━━━━━━━━━━━━━━━━━━━━\u001b[0m\u001b[37m\u001b[0m \u001b[1m1s\u001b[0m 6ms/step - loss: 485.5396 - val_loss: 86.6042\n",
            "Epoch 4/50\n",
            "\u001b[1m122/122\u001b[0m \u001b[32m━━━━━━━━━━━━━━━━━━━━\u001b[0m\u001b[37m\u001b[0m \u001b[1m1s\u001b[0m 7ms/step - loss: 199.1362 - val_loss: 71.8059\n",
            "Epoch 5/50\n",
            "\u001b[1m122/122\u001b[0m \u001b[32m━━━━━━━━━━━━━━━━━━━━\u001b[0m\u001b[37m\u001b[0m \u001b[1m1s\u001b[0m 10ms/step - loss: 317.3337 - val_loss: 57.8251\n",
            "Epoch 6/50\n",
            "\u001b[1m122/122\u001b[0m \u001b[32m━━━━━━━━━━━━━━━━━━━━\u001b[0m\u001b[37m\u001b[0m \u001b[1m2s\u001b[0m 9ms/step - loss: 466.3043 - val_loss: 30.4478\n",
            "Epoch 7/50\n",
            "\u001b[1m122/122\u001b[0m \u001b[32m━━━━━━━━━━━━━━━━━━━━\u001b[0m\u001b[37m\u001b[0m \u001b[1m1s\u001b[0m 9ms/step - loss: 75.3709 - val_loss: 7.9776\n",
            "Epoch 8/50\n",
            "\u001b[1m122/122\u001b[0m \u001b[32m━━━━━━━━━━━━━━━━━━━━\u001b[0m\u001b[37m\u001b[0m \u001b[1m1s\u001b[0m 3ms/step - loss: 22.2891 - val_loss: 2.7906\n",
            "Epoch 9/50\n",
            "\u001b[1m122/122\u001b[0m \u001b[32m━━━━━━━━━━━━━━━━━━━━\u001b[0m\u001b[37m\u001b[0m \u001b[1m1s\u001b[0m 3ms/step - loss: 47.3415 - val_loss: 0.7886\n",
            "Epoch 10/50\n",
            "\u001b[1m122/122\u001b[0m \u001b[32m━━━━━━━━━━━━━━━━━━━━\u001b[0m\u001b[37m\u001b[0m \u001b[1m0s\u001b[0m 3ms/step - loss: 5.7543 - val_loss: 0.2465\n",
            "Epoch 11/50\n",
            "\u001b[1m122/122\u001b[0m \u001b[32m━━━━━━━━━━━━━━━━━━━━\u001b[0m\u001b[37m\u001b[0m \u001b[1m1s\u001b[0m 3ms/step - loss: 1.1654 - val_loss: 0.0676\n",
            "Epoch 12/50\n",
            "\u001b[1m122/122\u001b[0m \u001b[32m━━━━━━━━━━━━━━━━━━━━\u001b[0m\u001b[37m\u001b[0m \u001b[1m1s\u001b[0m 3ms/step - loss: 0.2741 - val_loss: 0.0504\n",
            "Epoch 13/50\n",
            "\u001b[1m122/122\u001b[0m \u001b[32m━━━━━━━━━━━━━━━━━━━━\u001b[0m\u001b[37m\u001b[0m \u001b[1m1s\u001b[0m 3ms/step - loss: 0.0531 - val_loss: 0.0875\n",
            "Epoch 14/50\n",
            "\u001b[1m122/122\u001b[0m \u001b[32m━━━━━━━━━━━━━━━━━━━━\u001b[0m\u001b[37m\u001b[0m \u001b[1m1s\u001b[0m 3ms/step - loss: 0.5873 - val_loss: 0.3468\n",
            "Epoch 15/50\n",
            "\u001b[1m122/122\u001b[0m \u001b[32m━━━━━━━━━━━━━━━━━━━━\u001b[0m\u001b[37m\u001b[0m \u001b[1m1s\u001b[0m 3ms/step - loss: 0.3788 - val_loss: 0.0583\n",
            "Epoch 16/50\n",
            "\u001b[1m122/122\u001b[0m \u001b[32m━━━━━━━━━━━━━━━━━━━━\u001b[0m\u001b[37m\u001b[0m \u001b[1m1s\u001b[0m 3ms/step - loss: 2.4618 - val_loss: 0.1267\n",
            "Epoch 17/50\n",
            "\u001b[1m122/122\u001b[0m \u001b[32m━━━━━━━━━━━━━━━━━━━━\u001b[0m\u001b[37m\u001b[0m \u001b[1m1s\u001b[0m 3ms/step - loss: 0.0668 - val_loss: 0.0854\n",
            "Epoch 18/50\n",
            "\u001b[1m122/122\u001b[0m \u001b[32m━━━━━━━━━━━━━━━━━━━━\u001b[0m\u001b[37m\u001b[0m \u001b[1m0s\u001b[0m 3ms/step - loss: 0.2196 - val_loss: 0.0370\n",
            "Epoch 19/50\n",
            "\u001b[1m122/122\u001b[0m \u001b[32m━━━━━━━━━━━━━━━━━━━━\u001b[0m\u001b[37m\u001b[0m \u001b[1m1s\u001b[0m 5ms/step - loss: 0.0659 - val_loss: 0.0984\n",
            "Epoch 20/50\n",
            "\u001b[1m122/122\u001b[0m \u001b[32m━━━━━━━━━━━━━━━━━━━━\u001b[0m\u001b[37m\u001b[0m \u001b[1m1s\u001b[0m 4ms/step - loss: 4.2036 - val_loss: 0.0469\n",
            "Epoch 21/50\n",
            "\u001b[1m122/122\u001b[0m \u001b[32m━━━━━━━━━━━━━━━━━━━━\u001b[0m\u001b[37m\u001b[0m \u001b[1m0s\u001b[0m 4ms/step - loss: 0.0387 - val_loss: 0.0465\n",
            "Epoch 22/50\n",
            "\u001b[1m122/122\u001b[0m \u001b[32m━━━━━━━━━━━━━━━━━━━━\u001b[0m\u001b[37m\u001b[0m \u001b[1m1s\u001b[0m 4ms/step - loss: 0.0546 - val_loss: 0.0378\n",
            "Epoch 23/50\n",
            "\u001b[1m122/122\u001b[0m \u001b[32m━━━━━━━━━━━━━━━━━━━━\u001b[0m\u001b[37m\u001b[0m \u001b[1m0s\u001b[0m 2ms/step - loss: 0.0407 - val_loss: 0.0373\n",
            "Epoch 24/50\n",
            "\u001b[1m122/122\u001b[0m \u001b[32m━━━━━━━━━━━━━━━━━━━━\u001b[0m\u001b[37m\u001b[0m \u001b[1m1s\u001b[0m 4ms/step - loss: 0.0368 - val_loss: 0.1400\n",
            "Epoch 25/50\n",
            "\u001b[1m122/122\u001b[0m \u001b[32m━━━━━━━━━━━━━━━━━━━━\u001b[0m\u001b[37m\u001b[0m \u001b[1m1s\u001b[0m 3ms/step - loss: 0.1396 - val_loss: 0.1094\n",
            "Epoch 26/50\n",
            "\u001b[1m122/122\u001b[0m \u001b[32m━━━━━━━━━━━━━━━━━━━━\u001b[0m\u001b[37m\u001b[0m \u001b[1m1s\u001b[0m 4ms/step - loss: 0.7991 - val_loss: 0.0431\n",
            "Epoch 27/50\n",
            "\u001b[1m122/122\u001b[0m \u001b[32m━━━━━━━━━━━━━━━━━━━━\u001b[0m\u001b[37m\u001b[0m \u001b[1m1s\u001b[0m 4ms/step - loss: 0.0901 - val_loss: 0.0337\n",
            "Epoch 28/50\n",
            "\u001b[1m122/122\u001b[0m \u001b[32m━━━━━━━━━━━━━━━━━━━━\u001b[0m\u001b[37m\u001b[0m \u001b[1m1s\u001b[0m 4ms/step - loss: 0.0933 - val_loss: 0.0314\n",
            "Epoch 29/50\n",
            "\u001b[1m122/122\u001b[0m \u001b[32m━━━━━━━━━━━━━━━━━━━━\u001b[0m\u001b[37m\u001b[0m \u001b[1m1s\u001b[0m 4ms/step - loss: 0.1695 - val_loss: 0.0313\n",
            "Epoch 30/50\n",
            "\u001b[1m122/122\u001b[0m \u001b[32m━━━━━━━━━━━━━━━━━━━━\u001b[0m\u001b[37m\u001b[0m \u001b[1m1s\u001b[0m 4ms/step - loss: 0.0320 - val_loss: 0.0466\n",
            "Epoch 31/50\n",
            "\u001b[1m122/122\u001b[0m \u001b[32m━━━━━━━━━━━━━━━━━━━━\u001b[0m\u001b[37m\u001b[0m \u001b[1m1s\u001b[0m 4ms/step - loss: 0.1785 - val_loss: 0.0391\n",
            "Epoch 32/50\n",
            "\u001b[1m122/122\u001b[0m \u001b[32m━━━━━━━━━━━━━━━━━━━━\u001b[0m\u001b[37m\u001b[0m \u001b[1m1s\u001b[0m 4ms/step - loss: 0.1368 - val_loss: 0.0306\n",
            "Epoch 33/50\n",
            "\u001b[1m122/122\u001b[0m \u001b[32m━━━━━━━━━━━━━━━━━━━━\u001b[0m\u001b[37m\u001b[0m \u001b[1m1s\u001b[0m 4ms/step - loss: 0.1656 - val_loss: 0.0301\n",
            "Epoch 34/50\n",
            "\u001b[1m122/122\u001b[0m \u001b[32m━━━━━━━━━━━━━━━━━━━━\u001b[0m\u001b[37m\u001b[0m \u001b[1m0s\u001b[0m 3ms/step - loss: 0.0310 - val_loss: 0.0856\n",
            "Epoch 35/50\n",
            "\u001b[1m122/122\u001b[0m \u001b[32m━━━━━━━━━━━━━━━━━━━━\u001b[0m\u001b[37m\u001b[0m \u001b[1m1s\u001b[0m 3ms/step - loss: 0.0688 - val_loss: 0.0350\n",
            "Epoch 36/50\n",
            "\u001b[1m122/122\u001b[0m \u001b[32m━━━━━━━━━━━━━━━━━━━━\u001b[0m\u001b[37m\u001b[0m \u001b[1m0s\u001b[0m 2ms/step - loss: 0.3022 - val_loss: 0.0351\n",
            "Epoch 37/50\n",
            "\u001b[1m122/122\u001b[0m \u001b[32m━━━━━━━━━━━━━━━━━━━━\u001b[0m\u001b[37m\u001b[0m \u001b[1m0s\u001b[0m 2ms/step - loss: 0.1198 - val_loss: 0.0307\n",
            "Epoch 38/50\n",
            "\u001b[1m122/122\u001b[0m \u001b[32m━━━━━━━━━━━━━━━━━━━━\u001b[0m\u001b[37m\u001b[0m \u001b[1m1s\u001b[0m 3ms/step - loss: 0.0576 - val_loss: 0.0342\n",
            "Epoch 39/50\n",
            "\u001b[1m122/122\u001b[0m \u001b[32m━━━━━━━━━━━━━━━━━━━━\u001b[0m\u001b[37m\u001b[0m \u001b[1m1s\u001b[0m 3ms/step - loss: 0.4507 - val_loss: 0.0357\n",
            "Epoch 40/50\n",
            "\u001b[1m122/122\u001b[0m \u001b[32m━━━━━━━━━━━━━━━━━━━━\u001b[0m\u001b[37m\u001b[0m \u001b[1m0s\u001b[0m 3ms/step - loss: 0.0327 - val_loss: 0.1016\n",
            "Epoch 41/50\n",
            "\u001b[1m122/122\u001b[0m \u001b[32m━━━━━━━━━━━━━━━━━━━━\u001b[0m\u001b[37m\u001b[0m \u001b[1m1s\u001b[0m 3ms/step - loss: 0.0787 - val_loss: 0.0738\n",
            "Epoch 42/50\n",
            "\u001b[1m122/122\u001b[0m \u001b[32m━━━━━━━━━━━━━━━━━━━━\u001b[0m\u001b[37m\u001b[0m \u001b[1m1s\u001b[0m 3ms/step - loss: 0.2267 - val_loss: 0.0317\n",
            "Epoch 43/50\n",
            "\u001b[1m122/122\u001b[0m \u001b[32m━━━━━━━━━━━━━━━━━━━━\u001b[0m\u001b[37m\u001b[0m \u001b[1m1s\u001b[0m 3ms/step - loss: 0.0674 - val_loss: 0.2072\n",
            "Epoch 44/50\n",
            "\u001b[1m122/122\u001b[0m \u001b[32m━━━━━━━━━━━━━━━━━━━━\u001b[0m\u001b[37m\u001b[0m \u001b[1m0s\u001b[0m 2ms/step - loss: 4.1198 - val_loss: 0.1621\n",
            "Epoch 45/50\n",
            "\u001b[1m122/122\u001b[0m \u001b[32m━━━━━━━━━━━━━━━━━━━━\u001b[0m\u001b[37m\u001b[0m \u001b[1m1s\u001b[0m 3ms/step - loss: 2.9770 - val_loss: 0.9628\n",
            "Epoch 46/50\n",
            "\u001b[1m122/122\u001b[0m \u001b[32m━━━━━━━━━━━━━━━━━━━━\u001b[0m\u001b[37m\u001b[0m \u001b[1m0s\u001b[0m 2ms/step - loss: 0.1429 - val_loss: 0.0421\n",
            "Epoch 47/50\n",
            "\u001b[1m122/122\u001b[0m \u001b[32m━━━━━━━━━━━━━━━━━━━━\u001b[0m\u001b[37m\u001b[0m \u001b[1m1s\u001b[0m 3ms/step - loss: 0.0527 - val_loss: 0.0534\n",
            "Epoch 48/50\n",
            "\u001b[1m122/122\u001b[0m \u001b[32m━━━━━━━━━━━━━━━━━━━━\u001b[0m\u001b[37m\u001b[0m \u001b[1m1s\u001b[0m 3ms/step - loss: 1.3233 - val_loss: 0.0294\n",
            "Epoch 49/50\n",
            "\u001b[1m122/122\u001b[0m \u001b[32m━━━━━━━━━━━━━━━━━━━━\u001b[0m\u001b[37m\u001b[0m \u001b[1m1s\u001b[0m 3ms/step - loss: 0.9510 - val_loss: 0.2762\n",
            "Epoch 50/50\n",
            "\u001b[1m122/122\u001b[0m \u001b[32m━━━━━━━━━━━━━━━━━━━━\u001b[0m\u001b[37m\u001b[0m \u001b[1m1s\u001b[0m 3ms/step - loss: 0.5445 - val_loss: 0.0384\n"
          ]
        }
      ]
    },
    {
      "cell_type": "code",
      "source": [
        "import matplotlib.pyplot as plt\n",
        "\n",
        "plt.figure(figsize=(10,5))\n",
        "plt.plot(history.history['loss'], label='Training Loss')\n",
        "plt.plot(history.history['val_loss'], label='Validation Loss')\n",
        "plt.legend()\n",
        "plt.title('Autoencoder Training Loss')\n",
        "plt.xlabel('Epoch')\n",
        "plt.ylabel('Loss (MSE)')\n",
        "plt.show()\n"
      ],
      "metadata": {
        "colab": {
          "base_uri": "https://localhost:8080/",
          "height": 487
        },
        "id": "quDxW0JMhNr9",
        "outputId": "62445fe3-9c46-4675-81c2-0c436205e8d5"
      },
      "execution_count": null,
      "outputs": [
        {
          "output_type": "display_data",
          "data": {
            "text/plain": [
              "<Figure size 1000x500 with 1 Axes>"
            ],
            "image/png": "[encoded data removed]"
          },
          "metadata": {}
        }
      ]
    },
    {
      "cell_type": "markdown",
      "source": [
        "##Detecting Anomalies"
      ],
      "metadata": {
        "id": "Twq--07ohb16"
      }
    },
    {
      "cell_type": "code",
      "source": [
        "# Reconstruction error on normal data\n",
        "X_normal_pred = autoencoder.predict(X_normal)\n",
        "mse_normal = np.mean(np.power(X_normal - X_normal_pred, 2), axis=1)\n",
        "\n",
        "# Reconstruction error on anomalous data\n",
        "X_anomalous_pred = autoencoder.predict(X_anomalous)\n",
        "mse_anomalous = np.mean(np.power(X_anomalous - X_anomalous_pred, 2), axis=1)\n",
        "\n",
        "# Plotting the reconstruction errors\n",
        "plt.figure(figsize=(10,5))\n",
        "plt.hist(mse_normal, bins=50, alpha=0.6, label='Normal')\n",
        "plt.hist(mse_anomalous, bins=50, alpha=0.6, label='Anomalous')\n",
        "plt.legend()\n",
        "plt.title('Reconstruction Error Distribution')\n",
        "plt.xlabel('MSE')\n",
        "plt.ylabel('Frequency')\n",
        "plt.show()\n",
        "\n",
        "# Setting threshold (e.g., 95th percentile of normal MSE)\n",
        "threshold = np.percentile(mse_normal, 95)\n",
        "print(f\"Reconstruction error threshold: {threshold}\")\n",
        "\n",
        "# Predict anomalies based on threshold\n",
        "y_pred_normal = mse_normal > threshold\n",
        "y_pred_anomalous = mse_anomalous > threshold\n",
        "\n",
        "print(f\"Normal data - Predicted Anomalies: {np.sum(y_pred_normal)} out of {len(y_pred_normal)}\")\n",
        "print(f\"Anomalous data - Detected Anomalies: {np.sum(y_pred_anomalous)} out of {len(y_pred_anomalous)}\")\n"
      ],
      "metadata": {
        "colab": {
          "base_uri": "https://localhost:8080/",
          "height": 574
        },
        "id": "8sf3cda1hRcm",
        "outputId": "fb943a2c-94ee-4095-b53f-c05939808f7f"
      },
      "execution_count": null,
      "outputs": [
        {
          "output_type": "stream",
          "name": "stdout",
          "text": [
            "\u001b[1m152/152\u001b[0m \u001b[32m━━━━━━━━━━━━━━━━━━━━\u001b[0m\u001b[37m\u001b[0m \u001b[1m1s\u001b[0m 2ms/step\n",
            "\u001b[1m4/4\u001b[0m \u001b[32m━━━━━━━━━━━━━━━━━━━━\u001b[0m\u001b[37m\u001b[0m \u001b[1m0s\u001b[0m 2ms/step \n"
          ]
        },
        {
          "output_type": "display_data",
          "data": {
            "text/plain": [
              "<Figure size 1000x500 with 1 Axes>"
            ],
            "image/png": "[encoded data removed]"
          },
          "metadata": {}
        },
        {
          "output_type": "stream",
          "name": "stdout",
          "text": [
            "Reconstruction error threshold: 0.11866396123948121\n",
            "Normal data - Predicted Anomalies: 243 out of 4849\n",
            "Anomalous data - Detected Anomalies: 10 out of 101\n"
          ]
        }
      ]
    },
    {
      "cell_type": "markdown",
      "source": [
        "##Identifying contributing Features"
      ],
      "metadata": {
        "id": "8HC_m384hgdM"
      }
    },
    {
      "cell_type": "code",
      "source": [
        "import seaborn as sns\n",
        "\n",
        "# Function to calculate per-feature reconstruction error\n",
        "def feature_reconstruction_error(original, reconstructed):\n",
        "    return np.power(original - reconstructed, 2)\n",
        "\n",
        "# Select a sample anomalous data point\n",
        "sample_index = np.argmax(mse_anomalous)  # Data point with highest reconstruction error\n",
        "sample_anomaly = X_anomalous[sample_index].reshape(1, -1)\n",
        "sample_pred = autoencoder.predict(sample_anomaly)\n",
        "recon_error = feature_reconstruction_error(sample_anomaly, sample_pred).flatten()\n",
        "\n",
        "# Create a DataFrame for visualization\n",
        "error_df = pd.DataFrame({\n",
        "    'Feature': features,\n",
        "    'Reconstruction_Error': recon_error\n",
        "}).sort_values(by='Reconstruction_Error', ascending=False)\n",
        "\n",
        "# Plot the reconstruction errors\n",
        "plt.figure(figsize=(12,6))\n",
        "sns.barplot(x='Reconstruction_Error', y='Feature', data=error_df)\n",
        "plt.title('Per-Feature Reconstruction Error for an Anomalous Data Point')\n",
        "plt.xlabel('Reconstruction Error (MSE)')\n",
        "plt.ylabel('Feature')\n",
        "plt.show()\n"
      ],
      "metadata": {
        "colab": {
          "base_uri": "https://localhost:8080/",
          "height": 581
        },
        "id": "RjBDqnymhepZ",
        "outputId": "494cf1d9-066b-49d7-8254-e1ad33afb129"
      },
      "execution_count": null,
      "outputs": [
        {
          "output_type": "stream",
          "name": "stdout",
          "text": [
            "\u001b[1m1/1\u001b[0m \u001b[32m━━━━━━━━━━━━━━━━━━━━\u001b[0m\u001b[37m\u001b[0m \u001b[1m0s\u001b[0m 53ms/step\n"
          ]
        },
        {
          "output_type": "display_data",
          "data": {
            "text/plain": [
              "<Figure size 1200x600 with 1 Axes>"
            ],
            "image/png": "[encoded data removed]"
          },
          "metadata": {}
        }
      ]
    },
    {
      "cell_type": "markdown",
      "source": [
        "#END"
      ],
      "metadata": {
        "id": "1JV6M5v-hyL0"
      }
    },
    {
      "cell_type": "markdown",
      "source": [
        "##Fault Classification"
      ],
      "metadata": {
        "id": "Mbx5R8bMpFl-"
      }
    },
    {
      "cell_type": "code",
      "source": [
        "# ==========================\n",
        "# Fault Classification Model\n",
        "# ==========================\n",
        "\n",
        "import pandas as pd\n",
        "import numpy as np\n",
        "import matplotlib.pyplot as plt\n",
        "import seaborn as sns\n",
        "from sklearn.preprocessing import LabelEncoder\n",
        "from sklearn.ensemble import RandomForestClassifier\n",
        "from sklearn.metrics import classification_report, confusion_matrix\n",
        "from sklearn.model_selection import train_test_split\n",
        "from sklearn.feature_selection import SelectKBest, f_classif\n",
        "\n",
        "# Assuming 'data' is your integrated DataFrame from previous steps\n",
        "\n",
        "# Create multi-class fault labels\n",
        "# 0: No Fault\n",
        "# 1: Voltage Sag\n",
        "# 2: Voltage Swell\n",
        "# 3: Transient\n",
        "# 4: Multiple Faults\n",
        "\n",
        "def assign_fault_type(row):\n",
        "    faults = []\n",
        "    if row['voltage_sag'] == 1:\n",
        "        faults.append('Voltage_Sag')\n",
        "    if row['voltage_swell'] == 1:\n",
        "        faults.append('Voltage_Swell')\n",
        "    if row['transient'] == 1:\n",
        "        faults.append('Transient')\n",
        "    if len(faults) == 0:\n",
        "        return 'No_Fault'\n",
        "    elif len(faults) == 1:\n",
        "        return faults[0]\n",
        "    else:\n",
        "        return 'Multiple_Faults'\n",
        "\n",
        "data['fault_type'] = data.apply(assign_fault_type, axis=1)\n",
        "\n",
        "# Encode fault_type\n",
        "le = LabelEncoder()\n",
        "data['fault_type_encoded'] = le.fit_transform(data['fault_type'])\n",
        "\n",
        "# Display the distribution\n",
        "print(\"\\nFault Type Distribution:\")\n",
        "print(data['fault_type'].value_counts())\n"
      ],
      "metadata": {
        "colab": {
          "base_uri": "https://localhost:8080/"
        },
        "id": "oAmbrJZehoM2",
        "outputId": "e4706fea-3387-4aa1-a764-0d0e8c1078ff"
      },
      "execution_count": null,
      "outputs": [
        {
          "output_type": "stream",
          "name": "stdout",
          "text": [
            "\n",
            "Fault Type Distribution:\n",
            "fault_type\n",
            "No_Fault           4849\n",
            "Voltage_Sag          43\n",
            "Voltage_Swell        42\n",
            "Transient            14\n",
            "Multiple_Faults       2\n",
            "Name: count, dtype: int64\n"
          ]
        }
      ]
    },
    {
      "cell_type": "code",
      "source": [
        "# Visualize fault type distribution\n",
        "plt.figure(figsize=(8,6))\n",
        "sns.countplot(x='fault_type', data=data)\n",
        "plt.title('Fault Type Distribution')\n",
        "plt.xlabel('Fault Type')\n",
        "plt.ylabel('Count')\n",
        "plt.show()\n"
      ],
      "metadata": {
        "colab": {
          "base_uri": "https://localhost:8080/",
          "height": 564
        },
        "id": "r_ZESmKMpVqK",
        "outputId": "89f06ece-b479-42a2-f7a3-b1caae655f95"
      },
      "execution_count": null,
      "outputs": [
        {
          "output_type": "display_data",
          "data": {
            "text/plain": [
              "<Figure size 800x600 with 1 Axes>"
            ],
            "image/png": "[encoded data removed]"
          },
          "metadata": {}
        }
      ]
    },
    {
      "cell_type": "code",
      "source": [
        "# Define features and target for classification\n",
        "# Exclude 'timestamp', 'station_id', 'station_type', 'fault', 'fault_type', 'fault_type_encoded'\n",
        "feature_cols_classification = data.columns.drop(['timestamp', 'station_id', 'station_type', 'fault', 'fault_type', 'fault_type_encoded'])\n",
        "\n",
        "X_classification = data[feature_cols_classification]\n",
        "y_classification = data['fault_type_encoded']\n",
        "\n",
        "# Handle any remaining missing values (if any)\n",
        "if X_classification.isnull().sum().any():\n",
        "    print(\"\\nHandling NaNs in classification features.\")\n",
        "    X_classification.fillna(0, inplace=True)\n",
        "    print(\"NaNs in classification features filled with 0.\")\n",
        "else:\n",
        "    print(\"\\nNo NaNs in classification features.\")\n",
        "\n",
        "# Feature Selection using SelectKBest for classification\n",
        "selector_classification = SelectKBest(score_func=f_classif, k=20)\n",
        "X_classification_new = selector_classification.fit_transform(X_classification, y_classification)\n",
        "\n",
        "# Get selected feature names\n",
        "selected_features_classification = X_classification.columns[selector_classification.get_support(indices=True)]\n",
        "print(\"\\nSelected Features for Classification:\", selected_features_classification.tolist())\n",
        "\n",
        "# Update X_classification to include only selected features\n",
        "X_classification = X_classification[selected_features_classification]\n"
      ],
      "metadata": {
        "colab": {
          "base_uri": "https://localhost:8080/"
        },
        "id": "qG3XKm9QtJSE",
        "outputId": "b5620d11-496a-48bb-9519-40c5e61a61e5"
      },
      "execution_count": null,
      "outputs": [
        {
          "output_type": "stream",
          "name": "stdout",
          "text": [
            "\n",
            "No NaNs in classification features.\n",
            "\n",
            "Selected Features for Classification: ['voltage_AC', 'voltage_DC', 'current_AC', 'voltage_sag', 'voltage_swell', 'transient', 'charging_session', 'session_start_time', 'session_duration', 'energy_delivered', 'voltage_AC_ma', 'voltage_AC_std', 'voltage_DC_std', 'current_AC_std', 'current_DC_std', 'power_factor_std', 'transformer_temp_ma', 'cable_temp_std', 'power_DC', 'efficiency_DC']\n"
          ]
        },
        {
          "output_type": "stream",
          "name": "stderr",
          "text": [
            "/usr/local/lib/python3.10/dist-packages/sklearn/feature_selection/_univariate_selection.py:113: RuntimeWarning: divide by zero encountered in divide\n",
            "  f = msb / msw\n"
          ]
        }
      ]
    },
    {
      "cell_type": "code",
      "source": [
        "# Split data into training and testing sets\n",
        "X_train_clf, X_test_clf, y_train_clf, y_test_clf = train_test_split(\n",
        "    X_classification, y_classification, test_size=0.2, stratify=y_classification, random_state=42\n",
        ")\n",
        "\n",
        "print(f\"\\nTraining set size: {X_train_clf.shape[0]}\")\n",
        "print(f\"Test set size: {X_test_clf.shape[0]}\")\n"
      ],
      "metadata": {
        "colab": {
          "base_uri": "https://localhost:8080/"
        },
        "id": "h_fQvEJ0tKk6",
        "outputId": "e33b87a8-0157-4c79-9136-e511c0ea7c87"
      },
      "execution_count": null,
      "outputs": [
        {
          "output_type": "stream",
          "name": "stdout",
          "text": [
            "\n",
            "Training set size: 3960\n",
            "Test set size: 990\n"
          ]
        }
      ]
    },
    {
      "cell_type": "code",
      "source": [
        "# Initialize the classifier with class weighting to handle imbalanced classes\n",
        "rf_classifier = RandomForestClassifier(\n",
        "    n_estimators=100,\n",
        "    class_weight='balanced',\n",
        "    random_state=42\n",
        ")\n",
        "\n",
        "# Train the model\n",
        "rf_classifier.fit(X_train_clf, y_train_clf)\n"
      ],
      "metadata": {
        "colab": {
          "base_uri": "https://localhost:8080/",
          "height": 80
        },
        "id": "CKzodWJutM6w",
        "outputId": "1a224a8f-f415-4ea1-912c-ce4ba131d3e2"
      },
      "execution_count": null,
      "outputs": [
        {
          "output_type": "execute_result",
          "data": {
            "text/plain": [
              "RandomForestClassifier(class_weight='balanced', random_state=42)"
            ],
            "text/html": [
              "<style>#sk-container-id-1 {\n",
              "  /* Definition of color scheme common for light and dark mode */\n",
              "  --sklearn-color-text: black;\n",
              "  --sklearn-color-line: gray;\n",
              "  /* Definition of color scheme for unfitted estimators */\n",
              "  --sklearn-color-unfitted-level-0: #fff5e6;\n",
              "  --sklearn-color-unfitted-level-1: #f6e4d2;\n",
              "  --sklearn-color-unfitted-level-2: #ffe0b3;\n",
              "  --sklearn-color-unfitted-level-3: chocolate;\n",
              "  /* Definition of color scheme for fitted estimators */\n",
              "  --sklearn-color-fitted-level-0: #f0f8ff;\n",
              "  --sklearn-color-fitted-level-1: #d4ebff;\n",
              "  --sklearn-color-fitted-level-2: #b3dbfd;\n",
              "  --sklearn-color-fitted-level-3: cornflowerblue;\n",
              "\n",
              "  /* Specific color for light theme */\n",
              "  --sklearn-color-text-on-default-background: var(--sg-text-color, var(--theme-code-foreground, var(--jp-content-font-color1, black)));\n",
              "  --sklearn-color-background: var(--sg-background-color, var(--theme-background, var(--jp-layout-color0, white)));\n",
              "  --sklearn-color-border-box: var(--sg-text-color, var(--theme-code-foreground, var(--jp-content-font-color1, black)));\n",
              "  --sklearn-color-icon: #696969;\n",
              "\n",
              "  @media (prefers-color-scheme: dark) {\n",
              "    /* Redefinition of color scheme for dark theme */\n",
              "    --sklearn-color-text-on-default-background: var(--sg-text-color, var(--theme-code-foreground, var(--jp-content-font-color1, white)));\n",
              "    --sklearn-color-background: var(--sg-background-color, var(--theme-background, var(--jp-layout-color0, #111)));\n",
              "    --sklearn-color-border-box: var(--sg-text-color, var(--theme-code-foreground, var(--jp-content-font-color1, white)));\n",
              "    --sklearn-color-icon: #878787;\n",
              "  }\n",
              "}\n",
              "\n",
              "#sk-container-id-1 {\n",
              "  color: var(--sklearn-color-text);\n",
              "}\n",
              "\n",
              "#sk-container-id-1 pre {\n",
              "  padding: 0;\n",
              "}\n",
              "\n",
              "#sk-container-id-1 input.sk-hidden--visually {\n",
              "  border: 0;\n",
              "  clip: rect(1px 1px 1px 1px);\n",
              "  clip: rect(1px, 1px, 1px, 1px);\n",
              "  height: 1px;\n",
              "  margin: -1px;\n",
              "  overflow: hidden;\n",
              "  padding: 0;\n",
              "  position: absolute;\n",
              "  width: 1px;\n",
              "}\n",
              "\n",
              "#sk-container-id-1 div.sk-dashed-wrapped {\n",
              "  border: 1px dashed var(--sklearn-color-line);\n",
              "  margin: 0 0.4em 0.5em 0.4em;\n",
              "  box-sizing: border-box;\n",
              "  padding-bottom: 0.4em;\n",
              "  background-color: var(--sklearn-color-background);\n",
              "}\n",
              "\n",
              "#sk-container-id-1 div.sk-container {\n",
              "  /* jupyter's `normalize.less` sets `[hidden] { display: none; }`\n",
              "     but bootstrap.min.css set `[hidden] { display: none !important; }`\n",
              "     so we also need the `!important` here to be able to override the\n",
              "     default hidden behavior on the sphinx rendered scikit-learn.org.\n",
              "     See: https://github.com/scikit-learn/scikit-learn/issues/21755 */\n",
              "  display: inline-block !important;\n",
              "  position: relative;\n",
              "}\n",
              "\n",
              "#sk-container-id-1 div.sk-text-repr-fallback {\n",
              "  display: none;\n",
              "}\n",
              "\n",
              "div.sk-parallel-item,\n",
              "div.sk-serial,\n",
              "div.sk-item {\n",
              "  /* draw centered vertical line to link estimators */\n",
              "  background-image: linear-gradient(var(--sklearn-color-text-on-default-background), var(--sklearn-color-text-on-default-background));\n",
              "  background-size: 2px 100%;\n",
              "  background-repeat: no-repeat;\n",
              "  background-position: center center;\n",
              "}\n",
              "\n",
              "/* Parallel-specific style estimator block */\n",
              "\n",
              "#sk-container-id-1 div.sk-parallel-item::after {\n",
              "  content: \"\";\n",
              "  width: 100%;\n",
              "  border-bottom: 2px solid var(--sklearn-color-text-on-default-background);\n",
              "  flex-grow: 1;\n",
              "}\n",
              "\n",
              "#sk-container-id-1 div.sk-parallel {\n",
              "  display: flex;\n",
              "  align-items: stretch;\n",
              "  justify-content: center;\n",
              "  background-color: var(--sklearn-color-background);\n",
              "  position: relative;\n",
              "}\n",
              "\n",
              "#sk-container-id-1 div.sk-parallel-item {\n",
              "  display: flex;\n",
              "  flex-direction: column;\n",
              "}\n",
              "\n",
              "#sk-container-id-1 div.sk-parallel-item:first-child::after {\n",
              "  align-self: flex-end;\n",
              "  width: 50%;\n",
              "}\n",
              "\n",
              "#sk-container-id-1 div.sk-parallel-item:last-child::after {\n",
              "  align-self: flex-start;\n",
              "  width: 50%;\n",
              "}\n",
              "\n",
              "#sk-container-id-1 div.sk-parallel-item:only-child::after {\n",
              "  width: 0;\n",
              "}\n",
              "\n",
              "/* Serial-specific style estimator block */\n",
              "\n",
              "#sk-container-id-1 div.sk-serial {\n",
              "  display: flex;\n",
              "  flex-direction: column;\n",
              "  align-items: center;\n",
              "  background-color: var(--sklearn-color-background);\n",
              "  padding-right: 1em;\n",
              "  padding-left: 1em;\n",
              "}\n",
              "\n",
              "\n",
              "/* Toggleable style: style used for estimator/Pipeline/ColumnTransformer box that is\n",
              "clickable and can be expanded/collapsed.\n",
              "- Pipeline and ColumnTransformer use this feature and define the default style\n",
              "- Estimators will overwrite some part of the style using the `sk-estimator` class\n",
              "*/\n",
              "\n",
              "/* Pipeline and ColumnTransformer style (default) */\n",
              "\n",
              "#sk-container-id-1 div.sk-toggleable {\n",
              "  /* Default theme specific background. It is overwritten whether we have a\n",
              "  specific estimator or a Pipeline/ColumnTransformer */\n",
              "  background-color: var(--sklearn-color-background);\n",
              "}\n",
              "\n",
              "/* Toggleable label */\n",
              "#sk-container-id-1 label.sk-toggleable__label {\n",
              "  cursor: pointer;\n",
              "  display: block;\n",
              "  width: 100%;\n",
              "  margin-bottom: 0;\n",
              "  padding: 0.5em;\n",
              "  box-sizing: border-box;\n",
              "  text-align: center;\n",
              "}\n",
              "\n",
              "#sk-container-id-1 label.sk-toggleable__label-arrow:before {\n",
              "  /* Arrow on the left of the label */\n",
              "  content: \"▸\";\n",
              "  float: left;\n",
              "  margin-right: 0.25em;\n",
              "  color: var(--sklearn-color-icon);\n",
              "}\n",
              "\n",
              "#sk-container-id-1 label.sk-toggleable__label-arrow:hover:before {\n",
              "  color: var(--sklearn-color-text);\n",
              "}\n",
              "\n",
              "/* Toggleable content - dropdown */\n",
              "\n",
              "#sk-container-id-1 div.sk-toggleable__content {\n",
              "  max-height: 0;\n",
              "  max-width: 0;\n",
              "  overflow: hidden;\n",
              "  text-align: left;\n",
              "  /* unfitted */\n",
              "  background-color: var(--sklearn-color-unfitted-level-0);\n",
              "}\n",
              "\n",
              "#sk-container-id-1 div.sk-toggleable__content.fitted {\n",
              "  /* fitted */\n",
              "  background-color: var(--sklearn-color-fitted-level-0);\n",
              "}\n",
              "\n",
              "#sk-container-id-1 div.sk-toggleable__content pre {\n",
              "  margin: 0.2em;\n",
              "  border-radius: 0.25em;\n",
              "  color: var(--sklearn-color-text);\n",
              "  /* unfitted */\n",
              "  background-color: var(--sklearn-color-unfitted-level-0);\n",
              "}\n",
              "\n",
              "#sk-container-id-1 div.sk-toggleable__content.fitted pre {\n",
              "  /* unfitted */\n",
              "  background-color: var(--sklearn-color-fitted-level-0);\n",
              "}\n",
              "\n",
              "#sk-container-id-1 input.sk-toggleable__control:checked~div.sk-toggleable__content {\n",
              "  /* Expand drop-down */\n",
              "  max-height: 200px;\n",
              "  max-width: 100%;\n",
              "  overflow: auto;\n",
              "}\n",
              "\n",
              "#sk-container-id-1 input.sk-toggleable__control:checked~label.sk-toggleable__label-arrow:before {\n",
              "  content: \"▾\";\n",
              "}\n",
              "\n",
              "/* Pipeline/ColumnTransformer-specific style */\n",
              "\n",
              "#sk-container-id-1 div.sk-label input.sk-toggleable__control:checked~label.sk-toggleable__label {\n",
              "  color: var(--sklearn-color-text);\n",
              "  background-color: var(--sklearn-color-unfitted-level-2);\n",
              "}\n",
              "\n",
              "#sk-container-id-1 div.sk-label.fitted input.sk-toggleable__control:checked~label.sk-toggleable__label {\n",
              "  background-color: var(--sklearn-color-fitted-level-2);\n",
              "}\n",
              "\n",
              "/* Estimator-specific style */\n",
              "\n",
              "/* Colorize estimator box */\n",
              "#sk-container-id-1 div.sk-estimator input.sk-toggleable__control:checked~label.sk-toggleable__label {\n",
              "  /* unfitted */\n",
              "  background-color: var(--sklearn-color-unfitted-level-2);\n",
              "}\n",
              "\n",
              "#sk-container-id-1 div.sk-estimator.fitted input.sk-toggleable__control:checked~label.sk-toggleable__label {\n",
              "  /* fitted */\n",
              "  background-color: var(--sklearn-color-fitted-level-2);\n",
              "}\n",
              "\n",
              "#sk-container-id-1 div.sk-label label.sk-toggleable__label,\n",
              "#sk-container-id-1 div.sk-label label {\n",
              "  /* The background is the default theme color */\n",
              "  color: var(--sklearn-color-text-on-default-background);\n",
              "}\n",
              "\n",
              "/* On hover, darken the color of the background */\n",
              "#sk-container-id-1 div.sk-label:hover label.sk-toggleable__label {\n",
              "  color: var(--sklearn-color-text);\n",
              "  background-color: var(--sklearn-color-unfitted-level-2);\n",
              "}\n",
              "\n",
              "/* Label box, darken color on hover, fitted */\n",
              "#sk-container-id-1 div.sk-label.fitted:hover label.sk-toggleable__label.fitted {\n",
              "  color: var(--sklearn-color-text);\n",
              "  background-color: var(--sklearn-color-fitted-level-2);\n",
              "}\n",
              "\n",
              "/* Estimator label */\n",
              "\n",
              "#sk-container-id-1 div.sk-label label {\n",
              "  font-family: monospace;\n",
              "  font-weight: bold;\n",
              "  display: inline-block;\n",
              "  line-height: 1.2em;\n",
              "}\n",
              "\n",
              "#sk-container-id-1 div.sk-label-container {\n",
              "  text-align: center;\n",
              "}\n",
              "\n",
              "/* Estimator-specific */\n",
              "#sk-container-id-1 div.sk-estimator {\n",
              "  font-family: monospace;\n",
              "  border: 1px dotted var(--sklearn-color-border-box);\n",
              "  border-radius: 0.25em;\n",
              "  box-sizing: border-box;\n",
              "  margin-bottom: 0.5em;\n",
              "  /* unfitted */\n",
              "  background-color: var(--sklearn-color-unfitted-level-0);\n",
              "}\n",
              "\n",
              "#sk-container-id-1 div.sk-estimator.fitted {\n",
              "  /* fitted */\n",
              "  background-color: var(--sklearn-color-fitted-level-0);\n",
              "}\n",
              "\n",
              "/* on hover */\n",
              "#sk-container-id-1 div.sk-estimator:hover {\n",
              "  /* unfitted */\n",
              "  background-color: var(--sklearn-color-unfitted-level-2);\n",
              "}\n",
              "\n",
              "#sk-container-id-1 div.sk-estimator.fitted:hover {\n",
              "  /* fitted */\n",
              "  background-color: var(--sklearn-color-fitted-level-2);\n",
              "}\n",
              "\n",
              "/* Specification for estimator info (e.g. \"i\" and \"?\") */\n",
              "\n",
              "/* Common style for \"i\" and \"?\" */\n",
              "\n",
              ".sk-estimator-doc-link,\n",
              "a:link.sk-estimator-doc-link,\n",
              "a:visited.sk-estimator-doc-link {\n",
              "  float: right;\n",
              "  font-size: smaller;\n",
              "  line-height: 1em;\n",
              "  font-family: monospace;\n",
              "  background-color: var(--sklearn-color-background);\n",
              "  border-radius: 1em;\n",
              "  height: 1em;\n",
              "  width: 1em;\n",
              "  text-decoration: none !important;\n",
              "  margin-left: 1ex;\n",
              "  /* unfitted */\n",
              "  border: var(--sklearn-color-unfitted-level-1) 1pt solid;\n",
              "  color: var(--sklearn-color-unfitted-level-1);\n",
              "}\n",
              "\n",
              ".sk-estimator-doc-link.fitted,\n",
              "a:link.sk-estimator-doc-link.fitted,\n",
              "a:visited.sk-estimator-doc-link.fitted {\n",
              "  /* fitted */\n",
              "  border: var(--sklearn-color-fitted-level-1) 1pt solid;\n",
              "  color: var(--sklearn-color-fitted-level-1);\n",
              "}\n",
              "\n",
              "/* On hover */\n",
              "div.sk-estimator:hover .sk-estimator-doc-link:hover,\n",
              ".sk-estimator-doc-link:hover,\n",
              "div.sk-label-container:hover .sk-estimator-doc-link:hover,\n",
              ".sk-estimator-doc-link:hover {\n",
              "  /* unfitted */\n",
              "  background-color: var(--sklearn-color-unfitted-level-3);\n",
              "  color: var(--sklearn-color-background);\n",
              "  text-decoration: none;\n",
              "}\n",
              "\n",
              "div.sk-estimator.fitted:hover .sk-estimator-doc-link.fitted:hover,\n",
              ".sk-estimator-doc-link.fitted:hover,\n",
              "div.sk-label-container:hover .sk-estimator-doc-link.fitted:hover,\n",
              ".sk-estimator-doc-link.fitted:hover {\n",
              "  /* fitted */\n",
              "  background-color: var(--sklearn-color-fitted-level-3);\n",
              "  color: var(--sklearn-color-background);\n",
              "  text-decoration: none;\n",
              "}\n",
              "\n",
              "/* Span, style for the box shown on hovering the info icon */\n",
              ".sk-estimator-doc-link span {\n",
              "  display: none;\n",
              "  z-index: 9999;\n",
              "  position: relative;\n",
              "  font-weight: normal;\n",
              "  right: .2ex;\n",
              "  padding: .5ex;\n",
              "  margin: .5ex;\n",
              "  width: min-content;\n",
              "  min-width: 20ex;\n",
              "  max-width: 50ex;\n",
              "  color: var(--sklearn-color-text);\n",
              "  box-shadow: 2pt 2pt 4pt #999;\n",
              "  /* unfitted */\n",
              "  background: var(--sklearn-color-unfitted-level-0);\n",
              "  border: .5pt solid var(--sklearn-color-unfitted-level-3);\n",
              "}\n",
              "\n",
              ".sk-estimator-doc-link.fitted span {\n",
              "  /* fitted */\n",
              "  background: var(--sklearn-color-fitted-level-0);\n",
              "  border: var(--sklearn-color-fitted-level-3);\n",
              "}\n",
              "\n",
              ".sk-estimator-doc-link:hover span {\n",
              "  display: block;\n",
              "}\n",
              "\n",
              "/* \"?\"-specific style due to the `<a>` HTML tag */\n",
              "\n",
              "#sk-container-id-1 a.estimator_doc_link {\n",
              "  float: right;\n",
              "  font-size: 1rem;\n",
              "  line-height: 1em;\n",
              "  font-family: monospace;\n",
              "  background-color: var(--sklearn-color-background);\n",
              "  border-radius: 1rem;\n",
              "  height: 1rem;\n",
              "  width: 1rem;\n",
              "  text-decoration: none;\n",
              "  /* unfitted */\n",
              "  color: var(--sklearn-color-unfitted-level-1);\n",
              "  border: var(--sklearn-color-unfitted-level-1) 1pt solid;\n",
              "}\n",
              "\n",
              "#sk-container-id-1 a.estimator_doc_link.fitted {\n",
              "  /* fitted */\n",
              "  border: var(--sklearn-color-fitted-level-1) 1pt solid;\n",
              "  color: var(--sklearn-color-fitted-level-1);\n",
              "}\n",
              "\n",
              "/* On hover */\n",
              "#sk-container-id-1 a.estimator_doc_link:hover {\n",
              "  /* unfitted */\n",
              "  background-color: var(--sklearn-color-unfitted-level-3);\n",
              "  color: var(--sklearn-color-background);\n",
              "  text-decoration: none;\n",
              "}\n",
              "\n",
              "#sk-container-id-1 a.estimator_doc_link.fitted:hover {\n",
              "  /* fitted */\n",
              "  background-color: var(--sklearn-color-fitted-level-3);\n",
              "}\n",
              "</style><div id=\"sk-container-id-1\" class=\"sk-top-container\"><div class=\"sk-text-repr-fallback\"><pre>RandomForestClassifier(class_weight=&#x27;balanced&#x27;, random_state=42)</pre><b>In a Jupyter environment, please rerun this cell to show the HTML representation or trust the notebook. <br />On GitHub, the HTML representation is unable to render, please try loading this page with nbviewer.org.</b></div><div class=\"sk-container\" hidden><div class=\"sk-item\"><div class=\"sk-estimator fitted sk-toggleable\"><input class=\"sk-toggleable__control sk-hidden--visually\" id=\"sk-estimator-id-1\" type=\"checkbox\" checked><label for=\"sk-estimator-id-1\" class=\"sk-toggleable__label fitted sk-toggleable__label-arrow fitted\">&nbsp;&nbsp;RandomForestClassifier<a class=\"sk-estimator-doc-link fitted\" rel=\"noreferrer\" target=\"_blank\" href=\"https://scikit-learn.org/1.5/modules/generated/sklearn.ensemble.RandomForestClassifier.html\">?<span>Documentation for RandomForestClassifier</span></a><span class=\"sk-estimator-doc-link fitted\">i<span>Fitted</span></span></label><div class=\"sk-toggleable__content fitted\"><pre>RandomForestClassifier(class_weight=&#x27;balanced&#x27;, random_state=42)</pre></div> </div></div></div></div>"
            ]
          },
          "metadata": {},
          "execution_count": 23
        }
      ]
    },
    {
      "cell_type": "code",
      "source": [
        "# Make predictions\n",
        "y_pred_clf = rf_classifier.predict(X_test_clf)\n",
        "\n",
        "# Evaluate the model\n",
        "print(\"\\nConfusion Matrix:\")\n",
        "print(confusion_matrix(y_test_clf, y_pred_clf))\n",
        "\n",
        "print(\"\\nClassification Report:\")\n",
        "# Identify the unique classes present in the test set\n",
        "unique_labels = np.unique(y_test_clf)\n",
        "# Get corresponding class names\n",
        "target_names = le.inverse_transform(unique_labels)\n",
        "print(classification_report(y_test_clf, y_pred_clf, labels=unique_labels, target_names=target_names))\n"
      ],
      "metadata": {
        "colab": {
          "base_uri": "https://localhost:8080/"
        },
        "id": "wm-99DDsus4B",
        "outputId": "66f8ec6b-a789-4838-b02a-2db5da6013c3"
      },
      "execution_count": null,
      "outputs": [
        {
          "output_type": "stream",
          "name": "stdout",
          "text": [
            "\n",
            "Confusion Matrix:\n",
            "[[970   0   0   0]\n",
            " [  1   2   0   0]\n",
            " [  0   0   9   0]\n",
            " [  0   0   0   8]]\n",
            "\n",
            "Classification Report:\n",
            "               precision    recall  f1-score   support\n",
            "\n",
            "     No_Fault       1.00      1.00      1.00       970\n",
            "    Transient       1.00      0.67      0.80         3\n",
            "  Voltage_Sag       1.00      1.00      1.00         9\n",
            "Voltage_Swell       1.00      1.00      1.00         8\n",
            "\n",
            "     accuracy                           1.00       990\n",
            "    macro avg       1.00      0.92      0.95       990\n",
            " weighted avg       1.00      1.00      1.00       990\n",
            "\n"
          ]
        }
      ]
    },
    {
      "cell_type": "code",
      "source": [
        "# Feature Importance from Random Forest\n",
        "importances = rf_classifier.feature_importances_\n",
        "feature_importance_df = pd.DataFrame({\n",
        "    'Feature': selected_features_classification,\n",
        "    'Importance': importances\n",
        "}).sort_values(by='Importance', ascending=False)\n",
        "\n",
        "# Display top 20 features (if less than 20, display all)\n",
        "top_n = min(20, feature_importance_df.shape[0])\n",
        "\n",
        "plt.figure(figsize=(12,8))\n",
        "sns.barplot(x='Importance', y='Feature', data=feature_importance_df.head(top_n))\n",
        "plt.title('Top Feature Importances in Random Forest Classifier')\n",
        "plt.xlabel('Importance')\n",
        "plt.ylabel('Feature')\n",
        "plt.show()\n"
      ],
      "metadata": {
        "id": "sPaMJFYXuwEz",
        "outputId": "58a53895-cfce-47c0-f56f-d44383ff76b8",
        "colab": {
          "base_uri": "https://localhost:8080/",
          "height": 718
        }
      },
      "execution_count": null,
      "outputs": [
        {
          "output_type": "display_data",
          "data": {
            "text/plain": [
              "<Figure size 1200x800 with 1 Axes>"
            ],
            "image/png": "[encoded data removed]"
          },
          "metadata": {}
        }
      ]
    }
  ]
}